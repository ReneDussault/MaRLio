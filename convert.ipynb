{
 "cells": [
  {
   "cell_type": "code",
   "execution_count": null,
   "metadata": {},
   "outputs": [],
   "source": [
    "def bk2_to_mp4():\n",
    "    bk2_files = [f for f in os.listdir(\"./recordings/pred/\") if f.endswith(\".bk2\")]\n",
    "    bk2_files.sort(key=lambda x: int(''.join(filter(str.isdigit, x))))\n",
    "\n",
    "    for bk2_file in bk2_files:\n",
    "        with zipfile.ZipFile(f\"./recordings/pred/{bk2_file}\", \"r\") as zip_file:\n",
    "            content = zip_file.read(\"Input Log.txt\").decode(\"utf-8\")\n",
    "            size = zip_file.getinfo(\"Input Log.txt\").file_size\n",
    "        if not any(key in content for key in [\n",
    "            \"|..|.....B......|\",\n",
    "            \"|..|....YB...R..|\",\n",
    "            \"|..|..........A.|\",\n",
    "            \"|..|.........R..|\",\n",
    "            \"|..|....YB..L...|\",\n",
    "            \"|..|........L...|\",\n",
    "            \"|..|....YB...R..|\",\n",
    "            \"|..|.........RA.|\",\n",
    "            \"|..|....Y...L...|\",\n",
    "            \"|..|....Y...L.A.|\"\n",
    "            ]) or size<1024:\n",
    "            os.remove(os.path.join(\"./recordings/pred/\", bk2_file))\n",
    "            print(f\"The file {bk2_file} (input log size {size}) has been deleted.\")\n",
    "        else:\n",
    "            print(f\"The file {bk2_file} contains key presses.\")\n",
    "            mp4_file = bk2_file.split(\".\")[0] + \".mp4\"\n",
    "            print(f\"converting {bk2_file} into .mp4\")\n",
    "            print()\n",
    "            command = f\"python3.8 -m retro.scripts.playback_movie ./recordings/pred/{bk2_file}\"\n",
    "            move = f\"mv ./recordings/pred/{mp4_file} ./recordings/pred/videos/\"\n",
    "            os.system(command)\n",
    "            print(f\"moving {mp4_file} to video folder: ./recordings/pred/videos/\")\n",
    "            print()\n",
    "            os.system(move)"
   ]
  },
  {
   "cell_type": "code",
   "execution_count": null,
   "metadata": {},
   "outputs": [],
   "source": [
    "bk2_to_mp4()"
   ]
  }
 ],
 "metadata": {
  "language_info": {
   "name": "python"
  },
  "orig_nbformat": 4
 },
 "nbformat": 4,
 "nbformat_minor": 2
}
