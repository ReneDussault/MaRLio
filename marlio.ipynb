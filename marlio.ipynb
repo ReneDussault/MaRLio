{
 "cells": [
  {
   "attachments": {},
   "cell_type": "markdown",
   "metadata": {},
   "source": [
    "### Basic imports for the project"
   ]
  },
  {
   "cell_type": "code",
   "execution_count": 1,
   "metadata": {},
   "outputs": [
    {
     "name": "stderr",
     "output_type": "stream",
     "text": [
      "2023-05-05 13:13:45.347720: I tensorflow/core/platform/cpu_feature_guard.cc:193] This TensorFlow binary is optimized with oneAPI Deep Neural Network Library (oneDNN) to use the following CPU instructions in performance-critical operations:  SSE3 SSE4.1 SSE4.2 AVX AVX2 FMA\n",
      "To enable them in other operations, rebuild TensorFlow with the appropriate compiler flags.\n"
     ]
    }
   ],
   "source": [
    "import numpy as np\n",
    "import matplotlib.pyplot as plt\n",
    "import time\n",
    "import os\n",
    "import zipfile\n",
    "from PIL import Image\n",
    "from moviepy.editor import ImageSequenceClip\n",
    "\n",
    "from stable_baselines3.common.callbacks import BaseCallback"
   ]
  },
  {
   "attachments": {},
   "cell_type": "markdown",
   "metadata": {},
   "source": [
    "### Imports that will emulate the game and an action space"
   ]
  },
  {
   "cell_type": "code",
   "execution_count": 2,
   "metadata": {},
   "outputs": [],
   "source": [
    "import gym\n",
    "import retro"
   ]
  },
  {
   "attachments": {},
   "cell_type": "markdown",
   "metadata": {},
   "source": [
    "### Imports for our PPO algorithm (Proximal Policy Optimization) and for pre-processing (grayscale and frame stacking)"
   ]
  },
  {
   "cell_type": "code",
   "execution_count": 3,
   "metadata": {},
   "outputs": [],
   "source": [
    "from stable_baselines3 import PPO\n",
    "from gym.wrappers import GrayScaleObservation\n",
    "from stable_baselines3.common.vec_env import VecFrameStack, DummyVecEnv"
   ]
  },
  {
   "attachments": {},
   "cell_type": "markdown",
   "metadata": {},
   "source": [
    "### Using GPU for training (with AMD's ROCm), checking if we have access to Cuda (at least 4 times faster training)"
   ]
  },
  {
   "cell_type": "code",
   "execution_count": 4,
   "metadata": {},
   "outputs": [
    {
     "data": {
      "text/plain": [
       "True"
      ]
     },
     "execution_count": 4,
     "metadata": {},
     "output_type": "execute_result"
    }
   ],
   "source": [
    "import torch\n",
    "torch.cuda.is_available()"
   ]
  },
  {
   "attachments": {},
   "cell_type": "markdown",
   "metadata": {},
   "source": [
    "### Hijacking the default action space with a wrapper that will allow us to\n",
    "### create our own combos of buttons"
   ]
  },
  {
   "cell_type": "code",
   "execution_count": 5,
   "metadata": {},
   "outputs": [],
   "source": [
    "combos = [\n",
    "    [],\n",
    "    [\"RIGHT\"],\n",
    "    [\"RIGHT\",\"Y\"],\n",
    "    [\"RIGHT\",\"A\"],\n",
    "    [\"RIGHT\",\"Y\",\"A\"],\n",
    "    [\"RIGHT\",\"Y\",\"B\"],\n",
    "    [\"LEFT\",\"Y\"],\n",
    "    [\"LEFT\",\"Y\",\"A\"],\n",
    "    ]"
   ]
  },
  {
   "cell_type": "code",
   "execution_count": 6,
   "metadata": {},
   "outputs": [],
   "source": [
    "class Discretizer(gym.ActionWrapper):\n",
    "\n",
    "    def __init__(self, env, combos):\n",
    "        super().__init__(env)\n",
    "        assert isinstance(env.action_space, gym.spaces.MultiBinary)\n",
    "        buttons = env.unwrapped.buttons\n",
    "        self._decode_discrete_action = []\n",
    "        for combo in combos:\n",
    "            arr = np.array([False]*env.action_space.n)\n",
    "            for button in combo:\n",
    "                arr[buttons.index(button)] = True\n",
    "            self._decode_discrete_action.append(arr)\n",
    "\n",
    "        self.action_space = gym.spaces.Discrete(len(self._decode_discrete_action))\n",
    "\n",
    "    def action(self, act):\n",
    "        return self._decode_discrete_action[act].copy()\n",
    "\n",
    "\n",
    "class MaRLioDiscretizer(Discretizer):\n",
    "\n",
    "    def __init__(self, env):\n",
    "        super().__init__(env=env, combos=combos)"
   ]
  },
  {
   "attachments": {},
   "cell_type": "markdown",
   "metadata": {},
   "source": [
    "### Storing the path of our custom data.json and scenario.json files into variables"
   ]
  },
  {
   "cell_type": "code",
   "execution_count": 7,
   "metadata": {},
   "outputs": [],
   "source": [
    "data_path = \"./data.json\"\n",
    "scenario_path = \"./scenario.json\""
   ]
  },
  {
   "attachments": {},
   "cell_type": "markdown",
   "metadata": {},
   "source": [
    "### data.json will have memory addresses for things that we want to keep track of\n",
    "### and will be accessed from the info variable once we run the environment\n",
    "### scenario.json will be our way of calculating MaRLio's reward\n",
    "### Let's see how they look like. "
   ]
  },
  {
   "attachments": {},
   "cell_type": "markdown",
   "metadata": {},
   "source": [
    "### data.json\n",
    "\n",
    "````\n",
    "{\n",
    "  \"info\": {\n",
    "    \"checkpoint\": {\n",
    "      \"address\": 5070,\n",
    "      \"type\": \"|i1\"\n",
    "    },\n",
    "    \"coins\": {\n",
    "      \"address\": 8261055,\n",
    "      \"type\": \"|u1\"\n",
    "    },\n",
    "    \"end_of_level\": {\n",
    "      \"address\": 8259846,\n",
    "      \"type\": \"|i1\"\n",
    "    },\n",
    "    \"lives\": {\n",
    "      \"address\": 8261054,\n",
    "      \"type\": \"|i1\"\n",
    "    },\n",
    "    \"powerups\": {\n",
    "      \"address\": 25,\n",
    "      \"type\": \"|i1\"\n",
    "    },\n",
    "    \"score\": {\n",
    "      \"address\": 8261428,\n",
    "      \"type\": \"<u4\"\n",
    "    },\n",
    "    \"xpos\": {\n",
    "      \"address\": 148,\n",
    "      \"type\": \"<u2\"\n",
    "    },\n",
    "    \"ypos\": {\n",
    "      \"address\": 114,\n",
    "      \"type\": \"<u4\"\n",
    "    },\n",
    "    \"yoshi_coins\": {\n",
    "      \"address\": 8262690,\n",
    "      \"type\": \"<u4\"\n",
    "    }\n",
    "  }\n",
    "}\n",
    "````"
   ]
  },
  {
   "attachments": {},
   "cell_type": "markdown",
   "metadata": {},
   "source": [
    "### scenario.json\n",
    "\n",
    "````\n",
    "{\n",
    "  \"crop\": [\n",
    "    0,\n",
    "    0,\n",
    "    0,\n",
    "    0\n",
    "  ],\n",
    "  \"done\": {\n",
    "    \"variables\": {\n",
    "      \"lives\": {\n",
    "        \"op\": \"equal\",\n",
    "        \"reference\": -1\n",
    "      }\n",
    "    }\n",
    "  },\n",
    "  \"reward\": {\n",
    "    \"variables\": {\n",
    "      \"score\": {\n",
    "        \"reward\": 1.0\n",
    "      },\n",
    "      \"coins\": {\n",
    "        \"reward\": 1.0\n",
    "      },\n",
    "      \"yoshi_coins\": {\n",
    "        \"reward\": 1.0\n",
    "      },\n",
    "      \"xpos\": {\n",
    "        \"op\": \"greater\",\n",
    "        \"reference\": \"last\",\n",
    "        \"reward\": 10\n",
    "      },\n",
    "      \"ypos\": {\n",
    "        \"op\": \"less\",\n",
    "        \"reference\": \"last\",\n",
    "        \"reward\": 10\n",
    "      },\n",
    "      \"xpos\": {\n",
    "        \"op\": \"less\",\n",
    "        \"reference\": \"last\",\n",
    "        \"penalty\": 0.1\n",
    "      },\n",
    "      \"lives\": {\n",
    "        \"op\": \"less\",\n",
    "        \"reference\": \"last\",\n",
    "        \"penalty\": 1000.0\n",
    "      },\n",
    "      \"end_of_level\": {\n",
    "        \"op\": \"equal\",\n",
    "        \"reference\": 1,\n",
    "        \"reward\": 1000000.0\n",
    "      }\n",
    "    }\n",
    "  }\n",
    "}\n",
    "````"
   ]
  },
  {
   "attachments": {},
   "cell_type": "markdown",
   "metadata": {},
   "source": [
    "### Let's load our game, Super Mario World (SMW) from the Super Nintendo Entertainment System (SNES)\n",
    "### using scenario and info kwargs, we can load our custom data.json and scenario.json\n",
    "### using record kwarg, we can save the training sessions for future viewing"
   ]
  },
  {
   "cell_type": "code",
   "execution_count": 8,
   "metadata": {},
   "outputs": [],
   "source": [
    "# saves recording to ./recordings/train/\n",
    "\n",
    "# env = retro.make(game=\"SuperMarioWorld-Snes\", state=\"YoshiIsland1\", record=\"./recordings/train/\", scenario=scenario_path, info=data_path)"
   ]
  },
  {
   "cell_type": "code",
   "execution_count": 9,
   "metadata": {},
   "outputs": [],
   "source": [
    "# saves recording to ./recordings/pred/\n",
    "\n",
    "env = retro.make(game=\"SuperMarioWorld-Snes\", state=\"YoshiIsland2\", record=\"./recordings/pred/\", scenario=scenario_path, info=data_path)"
   ]
  },
  {
   "cell_type": "code",
   "execution_count": 10,
   "metadata": {},
   "outputs": [],
   "source": [
    "# for video only, no recording\n",
    "\n",
    "# env = retro.make(game=\"SuperMarioWorld-Snes\", state=\"YoshiIsland1\", scenario=scenario_path, info=data_path)"
   ]
  },
  {
   "attachments": {},
   "cell_type": "markdown",
   "metadata": {},
   "source": [
    "### This is where we wrap the environment in our own action space"
   ]
  },
  {
   "cell_type": "code",
   "execution_count": 11,
   "metadata": {},
   "outputs": [],
   "source": [
    "disc_env = MaRLioDiscretizer(env)"
   ]
  },
  {
   "cell_type": "code",
   "execution_count": 12,
   "metadata": {},
   "outputs": [],
   "source": [
    "obs = disc_env.reset()"
   ]
  },
  {
   "attachments": {},
   "cell_type": "markdown",
   "metadata": {},
   "source": [
    "### Let's check the index it returns and what combo we get from it"
   ]
  },
  {
   "cell_type": "code",
   "execution_count": 13,
   "metadata": {},
   "outputs": [
    {
     "name": "stdout",
     "output_type": "stream",
     "text": [
      "0\n"
     ]
    },
    {
     "data": {
      "text/plain": [
       "[]"
      ]
     },
     "execution_count": 13,
     "metadata": {},
     "output_type": "execute_result"
    }
   ],
   "source": [
    "action = disc_env.action_space.sample()\n",
    "print(action)\n",
    "combos[action]"
   ]
  },
  {
   "attachments": {},
   "cell_type": "markdown",
   "metadata": {},
   "source": [
    "### Now we can use that action inside our environment, one frame at a time\n",
    "### and we can use tuple unpacking, to get access to some important information about our environment"
   ]
  },
  {
   "cell_type": "code",
   "execution_count": 14,
   "metadata": {},
   "outputs": [
    {
     "name": "stdout",
     "output_type": "stream",
     "text": [
      "score: 0.0\n",
      "terminated: False\n",
      "info: {'end_of_level': 0, 'lives': 4, 'powerups': 0, 'score': 0, 'coins': 0, 'ypos': 159, 'yoshi_coins': 0, 'xpos': 16, 'checkpoint': 0}\n"
     ]
    }
   ],
   "source": [
    "obs, reward, terminated, info = disc_env.step(action)\n",
    "print(f\"score: {reward}\\nterminated: {terminated}\\ninfo: {info}\")"
   ]
  },
  {
   "attachments": {},
   "cell_type": "markdown",
   "metadata": {},
   "source": [
    "### The image we get is a 3-dimensional tensor with a height of 224 pixels, a width of 256 pixels, and 3 color channels (RGB)"
   ]
  },
  {
   "cell_type": "code",
   "execution_count": 15,
   "metadata": {},
   "outputs": [
    {
     "data": {
      "text/plain": [
       "(224, 256, 3)"
      ]
     },
     "execution_count": 15,
     "metadata": {},
     "output_type": "execute_result"
    }
   ],
   "source": [
    "obs.shape"
   ]
  },
  {
   "attachments": {},
   "cell_type": "markdown",
   "metadata": {},
   "source": [
    "### Let's visualize that frame"
   ]
  },
  {
   "cell_type": "code",
   "execution_count": 16,
   "metadata": {},
   "outputs": [
    {
     "data": {
      "text/plain": [
       "<matplotlib.image.AxesImage at 0x7fbe12d85ee0>"
      ]
     },
     "execution_count": 16,
     "metadata": {},
     "output_type": "execute_result"
    },
    {
     "data": {
      "image/png": "[encoded data removed]",
      "text/plain": [
       "<Figure size 548.571x480 with 1 Axes>"
      ]
     },
     "metadata": {},
     "output_type": "display_data"
    }
   ],
   "source": [
    "plt.matshow(obs)"
   ]
  },
  {
   "attachments": {},
   "cell_type": "markdown",
   "metadata": {},
   "source": [
    "### Let's look at Mario doing random actions"
   ]
  },
  {
   "cell_type": "code",
   "execution_count": 17,
   "metadata": {},
   "outputs": [],
   "source": [
    "# state = disc_env.reset()\n",
    "\n",
    "# done = False\n",
    "# for _ in range(1000):\n",
    "#     action = disc_env.action_space.sample()\n",
    "#     state, reward, done, info = disc_env.step(action)\n",
    "#     disc_env.render()\n",
    "#     time.sleep(0.005)\n",
    "# disc_env.render(close=True)"
   ]
  },
  {
   "attachments": {},
   "cell_type": "markdown",
   "metadata": {},
   "source": [
    "### Let's pre-process our images\n",
    "### First, grayscale. that'll reduce the size of our environment by 66%\n",
    "### Second, let's vectorize everything\n",
    "### Third, let's stack 4 frames, our model will get a sense of momentum\n",
    "### Normalize the pixels, between 0-1 instead of 0-255"
   ]
  },
  {
   "cell_type": "code",
   "execution_count": 18,
   "metadata": {},
   "outputs": [],
   "source": [
    "disc_env = GrayScaleObservation(disc_env, keep_dim=True)\n",
    "disc_env = DummyVecEnv([lambda:disc_env])\n",
    "disc_env = VecFrameStack(disc_env, 4, channels_order=\"last\")"
   ]
  },
  {
   "cell_type": "code",
   "execution_count": 19,
   "metadata": {},
   "outputs": [],
   "source": [
    "state = disc_env.reset()"
   ]
  },
  {
   "attachments": {},
   "cell_type": "markdown",
   "metadata": {},
   "source": [
    "### Let's look at a frame (grayscale)"
   ]
  },
  {
   "cell_type": "code",
   "execution_count": 20,
   "metadata": {},
   "outputs": [
    {
     "data": {
      "text/plain": [
       "<matplotlib.image.AxesImage at 0x7fbe12c7a640>"
      ]
     },
     "execution_count": 20,
     "metadata": {},
     "output_type": "execute_result"
    },
    {
     "data": {
      "image/png": "[encoded data removed]",
      "text/plain": [
       "<Figure size 548.571x480 with 1 Axes>"
      ]
     },
     "metadata": {},
     "output_type": "display_data"
    }
   ],
   "source": [
    "plt.matshow(state[0])"
   ]
  },
  {
   "attachments": {},
   "cell_type": "markdown",
   "metadata": {},
   "source": [
    "### This time, the (1, 224, 256, 4) shape indicates that the observation is a stack of 4 frames, \n",
    "### where each frame is a \"color\" (grayscale, 1 RGB channel) image with a resolution of 224x256 pixels."
   ]
  },
  {
   "cell_type": "code",
   "execution_count": 21,
   "metadata": {},
   "outputs": [
    {
     "data": {
      "text/plain": [
       "(1, 224, 256, 4)"
      ]
     },
     "execution_count": 21,
     "metadata": {},
     "output_type": "execute_result"
    }
   ],
   "source": [
    "state.shape"
   ]
  },
  {
   "attachments": {},
   "cell_type": "markdown",
   "metadata": {},
   "source": [
    "### Taking 4 steps, so we don't have blank frames"
   ]
  },
  {
   "cell_type": "code",
   "execution_count": 22,
   "metadata": {},
   "outputs": [],
   "source": [
    "for _ in range(3):\n",
    "    state, reward, done, info = disc_env.step([disc_env.action_space.sample()])"
   ]
  },
  {
   "attachments": {},
   "cell_type": "markdown",
   "metadata": {},
   "source": [
    "### Let's visualize our stack of frames, with random actions from our list of combos\n",
    "### We should see some movement"
   ]
  },
  {
   "cell_type": "code",
   "execution_count": 23,
   "metadata": {},
   "outputs": [
    {
     "data": {
      "image/png": "[encoded data removed]",
      "text/plain": [
       "<Figure size 2000x1600 with 4 Axes>"
      ]
     },
     "metadata": {},
     "output_type": "display_data"
    }
   ],
   "source": [
    "plt.figure(figsize=(20,16))\n",
    "for idx in range(state.shape[3]):\n",
    "    plt.subplot(1,4,idx+1)\n",
    "    plt.imshow(state[0][:,:,idx])\n",
    "plt.show()"
   ]
  },
  {
   "cell_type": "code",
   "execution_count": 24,
   "metadata": {},
   "outputs": [],
   "source": [
    "state = disc_env.reset()"
   ]
  },
  {
   "attachments": {},
   "cell_type": "markdown",
   "metadata": {},
   "source": [
    "### Defining a class that will create our logs and save our model at every check_freq"
   ]
  },
  {
   "cell_type": "code",
   "execution_count": 25,
   "metadata": {},
   "outputs": [],
   "source": [
    "# callback helper function\n",
    "\n",
    "# logs and model saving\n",
    "class TrainAndLoggingCallback(BaseCallback):\n",
    "\n",
    "    def __init__(self, check_freq, save_path, verbose=1):\n",
    "        super(TrainAndLoggingCallback, self).__init__(verbose)\n",
    "        self.check_freq = check_freq\n",
    "        self.save_path = save_path\n",
    "\n",
    "    def _init_callback(self):\n",
    "        if self.save_path is not None:\n",
    "            os.makedirs(self.save_path, exist_ok=True)\n",
    "\n",
    "    def _on_step(self):\n",
    "        if self.n_calls % self.check_freq == 0:\n",
    "            model_path = os.path.join(self.save_path, \"best_model_{}\".format(self.n_calls))\n",
    "            self.model.save(model_path)\n",
    "\n",
    "        return True"
   ]
  },
  {
   "attachments": {},
   "cell_type": "markdown",
   "metadata": {},
   "source": [
    "### Creating variables that points to our paths for saving the model and the logs (tensorboard)"
   ]
  },
  {
   "cell_type": "code",
   "execution_count": 26,
   "metadata": {},
   "outputs": [],
   "source": [
    "CHECKPOINT_DIR = \"./train/\"\n",
    "LOG_DIR = \"./logs/\""
   ]
  },
  {
   "attachments": {},
   "cell_type": "markdown",
   "metadata": {},
   "source": [
    "#### Proximal Policy Optimization (PPO) is a reinforcement learning algorithm that is used to optimize policies for continuous control problems.  \n",
    "#### The PPO algorithm uses a surrogate objective function to update the policy parameters in an iterative manner.  \n",
    "\n",
    "#### The formula for the PPO objective function is as follows:\n",
    "\n",
    "    LCLIP(θ) = E[min(r(θ)A, clip(r(θ), 1 - ε, 1 + ε)A)]\n",
    "\n",
    "#### Where:\n",
    "\n",
    "    θ represents the policy parameters\n",
    "    r(θ) represents the ratio of the probabilities of taking the action under the new policy and the old policy\n",
    "    A represents the advantage function, which estimates how much better a particular action is compared to the average action\n",
    "    ε is a hyperparameter that determines the degree of clipping that is applied to the ratio r(θ)\n",
    "\n",
    "#### The PPO algorithm maximizes this objective function by updating the policy parameters using stochastic gradient ascent.  \n",
    "#### In addition, the algorithm includes an entropy bonus term to encourage exploration and prevent the policy from becoming too deterministic."
   ]
  },
  {
   "attachments": {},
   "cell_type": "markdown",
   "metadata": {},
   "source": [
    "![Alt text](ppo.png)"
   ]
  },
  {
   "attachments": {},
   "cell_type": "markdown",
   "metadata": {},
   "source": [
    "### Keeping track of some hyperparameters for finetuning"
   ]
  },
  {
   "cell_type": "code",
   "execution_count": 27,
   "metadata": {},
   "outputs": [],
   "source": [
    "check_freq = 1_000_000\n",
    "total_timesteps = 10_000_000\n",
    "\n",
    "learning_rate = 0.0000001\n",
    "n_steps = 512\n",
    "clip_range = 0.2\n",
    "ent_coef = 0.1"
   ]
  },
  {
   "attachments": {},
   "cell_type": "markdown",
   "metadata": {},
   "source": [
    "### Instance of our PPO algorithm, with the rest of the hyperparameters set to default"
   ]
  },
  {
   "cell_type": "code",
   "execution_count": 28,
   "metadata": {},
   "outputs": [],
   "source": [
    "callback = TrainAndLoggingCallback(check_freq=check_freq, save_path=CHECKPOINT_DIR)"
   ]
  },
  {
   "cell_type": "code",
   "execution_count": null,
   "metadata": {},
   "outputs": [],
   "source": [
    "model = PPO(\n",
    "    \"CnnPolicy\", \n",
    "    disc_env, \n",
    "    learning_rate=learning_rate, \n",
    "    n_steps=n_steps, \n",
    "    batch_size=64, \n",
    "    n_epochs=10, \n",
    "    gamma=0.99, \n",
    "    gae_lambda=0.95, \n",
    "    clip_range=clip_range, \n",
    "    clip_range_vf=None, \n",
    "    normalize_advantage=True, \n",
    "    ent_coef=ent_coef, \n",
    "    vf_coef=0.5, \n",
    "    max_grad_norm=0.5, \n",
    "    use_sde=False, \n",
    "    sde_sample_freq=-1, \n",
    "    target_kl=None,  \n",
    "    tensorboard_log=LOG_DIR, \n",
    "    policy_kwargs=None, \n",
    "    verbose=0, \n",
    "    seed=42, \n",
    "    device=\"auto\", \n",
    "    _init_setup_model=True\n",
    "    )"
   ]
  },
  {
   "attachments": {},
   "cell_type": "markdown",
   "metadata": {},
   "source": [
    "### This is where MaRLio starts his adventure (training)"
   ]
  },
  {
   "cell_type": "code",
   "execution_count": null,
   "metadata": {},
   "outputs": [],
   "source": [
    "model.learn(\n",
    "    total_timesteps=total_timesteps, \n",
    "    progress_bar=True, \n",
    "    tb_log_name=\"PPO\",\n",
    "    callback=[\n",
    "    callback\n",
    "    ]\n",
    ")"
   ]
  },
  {
   "attachments": {},
   "cell_type": "markdown",
   "metadata": {},
   "source": [
    "### Let's add a powerup dictionnary, we will see what powerups MaRLio has"
   ]
  },
  {
   "cell_type": "code",
   "execution_count": 29,
   "metadata": {},
   "outputs": [],
   "source": [
    "powerup_dict = {\n",
    "    0: \"small\",\n",
    "    1: \"big\",\n",
    "    2: \"cape\",\n",
    "    3: \"fire\"\n",
    "}"
   ]
  },
  {
   "attachments": {},
   "cell_type": "markdown",
   "metadata": {},
   "source": [
    "### Let's add a dictionnary of our overlays"
   ]
  },
  {
   "cell_type": "code",
   "execution_count": 30,
   "metadata": {},
   "outputs": [],
   "source": [
    "combo_images = {\n",
    "    0: \"./controller/blank.png\",\n",
    "    1: \"./controller/right.png\",\n",
    "    2: \"./controller/righty.png\",\n",
    "    3: \"./controller/righta.png\",\n",
    "    4: \"./controller/rightya.png\",\n",
    "    5: \"./controller/rightyb.png\",\n",
    "    6: \"./controller/lefty.png\",\n",
    "    7: \"./controller/leftya.png\",\n",
    "    8: \"./controller/leftyb.png\",\n",
    "    9: \"./controller/a.png\",\n",
    "    10: \"./controller/b.png\"\n",
    "}"
   ]
  },
  {
   "attachments": {},
   "cell_type": "markdown",
   "metadata": {},
   "source": [
    "### Let's load the models and predict the environment with the models' knowledge"
   ]
  },
  {
   "cell_type": "code",
   "execution_count": 31,
   "metadata": {},
   "outputs": [],
   "source": [
    "# game loop for predict\n",
    "\n",
    "def pred(model):\n",
    "    total_reward = 0\n",
    "    action_dict = {}\n",
    "    powerup = \"\"\n",
    "    check = False\n",
    "    frame = 1\n",
    "\n",
    "    state = disc_env.reset()\n",
    "    done = False\n",
    "    while not done:\n",
    "        action, _ = model.predict(state)\n",
    "\n",
    "        action_dict[frame] = action[0]\n",
    "        state, reward, done, info = disc_env.step(action)\n",
    "\n",
    "        if info[0][\"powerups\"] != powerup:\n",
    "            powerup = info[0][\"powerups\"]\n",
    "            print(powerup_dict.get(powerup, \"Invalid integer value\"))\n",
    "\n",
    "        if info[0][\"checkpoint\"] == 1 and not check:\n",
    "            check = True\n",
    "            print(\"Midlevel Checkpoint Reached: +50k reward\")\n",
    "\n",
    "        if info[0][\"end_of_level\"] == 1:\n",
    "            print(\"End of level Reached: +100k reward\")\n",
    "\n",
    "        frame += 1\n",
    "\n",
    "        total_reward += reward\n",
    "        disc_env.render()\n",
    "        time.sleep(0.005)\n",
    "\n",
    "    print(\"Total reward:\", total_reward[0])\n",
    "    print()\n",
    "    return action_dict"
   ]
  },
  {
   "attachments": {},
   "cell_type": "markdown",
   "metadata": {},
   "source": [
    "### Helper function that will convert our .bk2 to .mp4"
   ]
  },
  {
   "cell_type": "code",
   "execution_count": 32,
   "metadata": {},
   "outputs": [],
   "source": [
    "def bk2_to_mp4():\n",
    "    bk2_files = [f for f in os.listdir(\"./recordings/pred/\") if f.endswith(\".bk2\")]\n",
    "    bk2_files.sort(key=lambda x: int(''.join(filter(str.isdigit, x))))\n",
    "\n",
    "    for bk2_file in bk2_files:\n",
    "        with zipfile.ZipFile(f\"./recordings/pred/{bk2_file}\", \"r\") as zip_file:\n",
    "            content = zip_file.read(\"Input Log.txt\").decode(\"utf-8\")\n",
    "            size = zip_file.getinfo(\"Input Log.txt\").file_size\n",
    "        if not any(key in content for key in [\n",
    "            \"|..|.....B......|\",\n",
    "            \"|..|....YB...R..|\",\n",
    "            \"|..|..........A.|\",\n",
    "            \"|..|.........R..|\",\n",
    "            \"|..|....YB..L...|\",\n",
    "            \"|..|........L...|\",\n",
    "            \"|..|....YB...R..|\",\n",
    "            \"|..|.........RA.|\",\n",
    "            \"|..|....Y...L...|\",\n",
    "            \"|..|....Y...L.A.|\"\n",
    "            ]) or size<1024:\n",
    "            os.remove(os.path.join(\"./recordings/pred/\", bk2_file))\n",
    "            print(f\"The file {bk2_file} (input log size {size}) has been deleted.\")\n",
    "        else:\n",
    "            print(f\"The file {bk2_file} contains key presses.\")\n",
    "            mp4_file = bk2_file.split(\".\")[0] + \".mp4\"\n",
    "            print(f\"converting {bk2_file} into .mp4\")\n",
    "            print()\n",
    "            command = f\"python3.8 -m retro.scripts.playback_movie ./recordings/pred/{bk2_file}\"\n",
    "            move = f\"mv ./recordings/pred/{mp4_file} ./recordings/pred/videos/\"\n",
    "            os.system(command)\n",
    "            print(f\"moving {mp4_file} to video folder: ./recordings/pred/videos/\")\n",
    "            print()\n",
    "            os.system(move)"
   ]
  },
  {
   "attachments": {},
   "cell_type": "markdown",
   "metadata": {},
   "source": [
    "### Helper function that will create an overlay video"
   ]
  },
  {
   "cell_type": "code",
   "execution_count": 33,
   "metadata": {},
   "outputs": [],
   "source": [
    "def generate_video(combo_images, action_dict, filename, fps):\n",
    "    print(f\"Generating a video of the overlay for {filename}\")\n",
    "    images = []\n",
    "    for _, action_index in action_dict.items():\n",
    "        image_path = combo_images[action_index]\n",
    "        with Image.open(image_path) as image:\n",
    "            images.append(np.array(image))\n",
    "    clip = ImageSequenceClip(images, fps=fps)\n",
    "    clip = clip.set_duration(len(action_dict) / fps)\n",
    "    clip = clip.set_position(('center', 'center'))\n",
    "    clip.write_videofile(filename, fps=fps, codec='mpeg4')\n",
    "    print()"
   ]
  },
  {
   "attachments": {},
   "cell_type": "markdown",
   "metadata": {},
   "source": [
    "### Our main function that will call our helper functions in turn, automating the process of generating files"
   ]
  },
  {
   "cell_type": "code",
   "execution_count": 34,
   "metadata": {},
   "outputs": [],
   "source": [
    "def automate():\n",
    "    models = [f for f in os.listdir(\"./train/\") if f.endswith(\".zip\")]\n",
    "    models.sort(key=lambda x: int(''.join(filter(str.isdigit, x))))\n",
    "    for model in models:\n",
    "        marlio = f\"{model}\"\n",
    "        model = PPO.load(f\"./train/{marlio}\")\n",
    "        print(f\"using {marlio}\")\n",
    "        print()\n",
    "\n",
    "        action_dict = pred(model)\n",
    "        filename = \"./overlays/\" + marlio.split(\".\")[0] + \".mp4\"\n",
    "        generate_video(combo_images, action_dict, filename, 60)\n",
    "    bk2_to_mp4()"
   ]
  },
  {
   "attachments": {},
   "cell_type": "markdown",
   "metadata": {},
   "source": [
    "### Let's automate the boring stuff!"
   ]
  },
  {
   "cell_type": "code",
   "execution_count": 35,
   "metadata": {},
   "outputs": [
    {
     "name": "stdout",
     "output_type": "stream",
     "text": [
      "using best_model_1000000.zip\n",
      "\n",
      "small\n",
      "big\n",
      "Midlevel Checkpoint Reached: +50k reward\n",
      "End of level Reached: +100k reward\n",
      "Total reward: 185127.0\n",
      "\n",
      "Generating a video of the overlay for ./overlays/best_model_1000000.mp4\n",
      "Moviepy - Building video ./overlays/best_model_1000000.mp4.\n",
      "Moviepy - Writing video ./overlays/best_model_1000000.mp4\n",
      "\n"
     ]
    },
    {
     "name": "stderr",
     "output_type": "stream",
     "text": [
      "                                                                  \r"
     ]
    },
    {
     "name": "stdout",
     "output_type": "stream",
     "text": [
      "Moviepy - Done !\n",
      "Moviepy - video ready ./overlays/best_model_1000000.mp4\n",
      "\n",
      "using best_model_2000000.zip\n",
      "\n",
      "small\n",
      "End of level Reached: +100k reward\n",
      "Total reward: 265196.0\n",
      "\n",
      "Generating a video of the overlay for ./overlays/best_model_2000000.mp4\n",
      "Moviepy - Building video ./overlays/best_model_2000000.mp4.\n",
      "Moviepy - Writing video ./overlays/best_model_2000000.mp4\n",
      "\n"
     ]
    },
    {
     "name": "stderr",
     "output_type": "stream",
     "text": [
      "                                                                  \r"
     ]
    },
    {
     "name": "stdout",
     "output_type": "stream",
     "text": [
      "Moviepy - Done !\n",
      "Moviepy - video ready ./overlays/best_model_2000000.mp4\n",
      "\n",
      "using best_model_3000000.zip\n",
      "\n",
      "small\n",
      "Total reward: -728.0\n",
      "\n",
      "Generating a video of the overlay for ./overlays/best_model_3000000.mp4\n",
      "Moviepy - Building video ./overlays/best_model_3000000.mp4.\n",
      "Moviepy - Writing video ./overlays/best_model_3000000.mp4\n",
      "\n"
     ]
    },
    {
     "name": "stderr",
     "output_type": "stream",
     "text": [
      "                                                                  \r"
     ]
    },
    {
     "name": "stdout",
     "output_type": "stream",
     "text": [
      "Moviepy - Done !\n",
      "Moviepy - video ready ./overlays/best_model_3000000.mp4\n",
      "\n",
      "using best_model_4000000.zip\n",
      "\n",
      "small\n",
      "Total reward: 27573.0\n",
      "\n",
      "Generating a video of the overlay for ./overlays/best_model_4000000.mp4\n",
      "Moviepy - Building video ./overlays/best_model_4000000.mp4.\n",
      "Moviepy - Writing video ./overlays/best_model_4000000.mp4\n",
      "\n"
     ]
    },
    {
     "name": "stderr",
     "output_type": "stream",
     "text": [
      "                                                                  \r"
     ]
    },
    {
     "name": "stdout",
     "output_type": "stream",
     "text": [
      "Moviepy - Done !\n",
      "Moviepy - video ready ./overlays/best_model_4000000.mp4\n",
      "\n",
      "using best_model_5000000.zip\n",
      "\n",
      "small\n",
      "End of level Reached: +100k reward\n",
      "Total reward: 542852.0\n",
      "\n",
      "Generating a video of the overlay for ./overlays/best_model_5000000.mp4\n",
      "Moviepy - Building video ./overlays/best_model_5000000.mp4.\n",
      "Moviepy - Writing video ./overlays/best_model_5000000.mp4\n",
      "\n"
     ]
    },
    {
     "name": "stderr",
     "output_type": "stream",
     "text": [
      "                                                                  \r"
     ]
    },
    {
     "name": "stdout",
     "output_type": "stream",
     "text": [
      "Moviepy - Done !\n",
      "Moviepy - video ready ./overlays/best_model_5000000.mp4\n",
      "\n",
      "using best_model_6000000.zip\n",
      "\n",
      "small\n",
      "Total reward: -262.0\n",
      "\n",
      "Generating a video of the overlay for ./overlays/best_model_6000000.mp4\n",
      "Moviepy - Building video ./overlays/best_model_6000000.mp4.\n",
      "Moviepy - Writing video ./overlays/best_model_6000000.mp4\n",
      "\n"
     ]
    },
    {
     "name": "stderr",
     "output_type": "stream",
     "text": [
      "                                                                  \r"
     ]
    },
    {
     "name": "stdout",
     "output_type": "stream",
     "text": [
      "Moviepy - Done !\n",
      "Moviepy - video ready ./overlays/best_model_6000000.mp4\n",
      "\n",
      "using best_model_7000000.zip\n",
      "\n",
      "small\n",
      "End of level Reached: +100k reward\n",
      "Total reward: 137173.0\n",
      "\n",
      "Generating a video of the overlay for ./overlays/best_model_7000000.mp4\n",
      "Moviepy - Building video ./overlays/best_model_7000000.mp4.\n",
      "Moviepy - Writing video ./overlays/best_model_7000000.mp4\n",
      "\n"
     ]
    },
    {
     "name": "stderr",
     "output_type": "stream",
     "text": [
      "                                                                  \r"
     ]
    },
    {
     "name": "stdout",
     "output_type": "stream",
     "text": [
      "Moviepy - Done !\n",
      "Moviepy - video ready ./overlays/best_model_7000000.mp4\n",
      "\n",
      "using best_model_8000000.zip\n",
      "\n",
      "small\n",
      "Total reward: 39793.0\n",
      "\n",
      "Generating a video of the overlay for ./overlays/best_model_8000000.mp4\n",
      "Moviepy - Building video ./overlays/best_model_8000000.mp4.\n",
      "Moviepy - Writing video ./overlays/best_model_8000000.mp4\n",
      "\n"
     ]
    },
    {
     "name": "stderr",
     "output_type": "stream",
     "text": [
      "                                                                   \r"
     ]
    },
    {
     "name": "stdout",
     "output_type": "stream",
     "text": [
      "Moviepy - Done !\n",
      "Moviepy - video ready ./overlays/best_model_8000000.mp4\n",
      "\n",
      "using best_model_9000000.zip\n",
      "\n",
      "small\n",
      "Total reward: 43413.0\n",
      "\n",
      "Generating a video of the overlay for ./overlays/best_model_9000000.mp4\n",
      "Moviepy - Building video ./overlays/best_model_9000000.mp4.\n",
      "Moviepy - Writing video ./overlays/best_model_9000000.mp4\n",
      "\n"
     ]
    },
    {
     "name": "stderr",
     "output_type": "stream",
     "text": [
      "                                                                   \r"
     ]
    },
    {
     "name": "stdout",
     "output_type": "stream",
     "text": [
      "Moviepy - Done !\n",
      "Moviepy - video ready ./overlays/best_model_9000000.mp4\n",
      "\n",
      "using best_model_10000000.zip\n",
      "\n",
      "small\n",
      "big\n",
      "Midlevel Checkpoint Reached: +50k reward\n",
      "small\n",
      "Total reward: 119516.0\n",
      "\n",
      "Generating a video of the overlay for ./overlays/best_model_10000000.mp4\n",
      "Moviepy - Building video ./overlays/best_model_10000000.mp4.\n",
      "Moviepy - Writing video ./overlays/best_model_10000000.mp4\n",
      "\n"
     ]
    },
    {
     "name": "stderr",
     "output_type": "stream",
     "text": [
      "                                                                   \r"
     ]
    },
    {
     "name": "stdout",
     "output_type": "stream",
     "text": [
      "Moviepy - Done !\n",
      "Moviepy - video ready ./overlays/best_model_10000000.mp4\n",
      "\n",
      "The file SuperMarioWorld-Snes-YoshiIsland2-000000.bk2 (input log size 133) has been deleted.\n",
      "The file SuperMarioWorld-Snes-YoshiIsland2-000001.bk2 (input log size 169) has been deleted.\n",
      "The file SuperMarioWorld-Snes-YoshiIsland2-000002.bk2 (input log size 115) has been deleted.\n",
      "The file SuperMarioWorld-Snes-YoshiIsland2-000003.bk2 contains key presses.\n",
      "converting SuperMarioWorld-Snes-YoshiIsland2-000003.bk2 into .mp4\n",
      "\n"
     ]
    },
    {
     "name": "stderr",
     "output_type": "stream",
     "text": [
      "ffmpeg version 4.4.2-0ubuntu0.22.04.1 Copyright (c) 2000-2021 the FFmpeg developers\n",
      "  built with gcc 11 (Ubuntu 11.2.0-19ubuntu1)\n",
      "  configuration: --prefix=/usr --extra-version=0ubuntu0.22.04.1 --toolchain=hardened --libdir=/usr/lib/x86_64-linux-gnu --incdir=/usr/include/x86_64-linux-gnu --arch=amd64 --enable-gpl --disable-stripping --enable-gnutls --enable-ladspa --enable-libaom --enable-libass --enable-libbluray --enable-libbs2b --enable-libcaca --enable-libcdio --enable-libcodec2 --enable-libdav1d --enable-libflite --enable-libfontconfig --enable-libfreetype --enable-libfribidi --enable-libgme --enable-libgsm --enable-libjack --enable-libmp3lame --enable-libmysofa --enable-libopenjpeg --enable-libopenmpt --enable-libopus --enable-libpulse --enable-librabbitmq --enable-librubberband --enable-libshine --enable-libsnappy --enable-libsoxr --enable-libspeex --enable-libsrt --enable-libssh --enable-libtheora --enable-libtwolame --enable-libvidstab --enable-libvorbis --enable-libvpx --enable-libwebp --enable-libx265 --enable-libxml2 --enable-libxvid --enable-libzimg --enable-libzmq --enable-libzvbi --enable-lv2 --enable-omx --enable-openal --enable-opencl --enable-opengl --enable-sdl2 --enable-pocketsphinx --enable-librsvg --enable-libmfx --enable-libdc1394 --enable-libdrm --enable-libiec61883 --enable-chromaprint --enable-frei0r --enable-libx264 --enable-shared\n",
      "  libavutil      56. 70.100 / 56. 70.100\n",
      "  libavcodec     58.134.100 / 58.134.100\n",
      "  libavformat    58. 76.100 / 58. 76.100\n",
      "  libavdevice    58. 13.100 / 58. 13.100\n",
      "  libavfilter     7.110.100 /  7.110.100\n",
      "  libswscale      5.  9.100 /  5.  9.100\n",
      "  libswresample   3.  9.100 /  3.  9.100\n",
      "  libpostproc    55.  9.100 / 55.  9.100\n",
      "Input #0, rawvideo, from 'tcp://127.0.0.1:35345?listen':\n",
      "  Duration: N/A, start: 0.000000, bitrate: 82711 kb/s\n",
      "  Stream #0:0: Video: rawvideo (RGB[24] / 0x18424752), rgb24, 256x224, 82711 kb/s, 60.10 tbr, 60.10 tbn, 60.10 tbc\n",
      "Guessed Channel Layout for Input Stream #1.0 : stereo\n",
      "Input #1, s16le, from 'tcp://127.0.0.1:42669?listen':\n",
      "  Duration: N/A, bitrate: 1025 kb/s\n",
      "  Stream #1:0: Audio: pcm_s16le, 32040 Hz, stereo, s16, 1025 kb/s\n",
      "Stream mapping:\n",
      "  Stream #0:0 -> #0:0 (rawvideo (native) -> h264 (libx264))\n",
      "  Stream #1:0 -> #0:1 (pcm_s16le (native) -> aac (native))\n",
      "Press [q] to stop, [?] for help\n",
      "[libx264 @ 0x564a04cee7c0] using cpu capabilities: MMX2 SSE2Fast SSSE3 SSE4.2 AVX FMA3 BMI2 AVX2\n",
      "[libx264 @ 0x564a04cee7c0] profile High, level 2.1, 4:2:0, 8-bit\n",
      "[libx264 @ 0x564a04cee7c0] 264 - core 163 r3060 5db6aa6 - H.264/MPEG-4 AVC codec - Copyleft 2003-2021 - http://www.videolan.org/x264.html - options: cabac=1 ref=5 deblock=1:0:0 analyse=0x3:0x113 me=hex subme=8 psy=1 psy_rd=1.00:0.00 mixed_ref=1 me_range=16 chroma_me=1 trellis=2 8x8dct=1 cqm=0 deadzone=21,11 fast_pskip=1 chroma_qp_offset=-2 threads=7 lookahead_threads=1 sliced_threads=0 nr=0 decimate=1 interlaced=0 bluray_compat=0 constrained_intra=0 bframes=3 b_pyramid=2 b_adapt=1 b_bias=0 direct=3 weightb=1 open_gop=0 weightp=2 keyint=250 keyint_min=25 scenecut=40 intra_refresh=0 rc_lookahead=50 rc=crf mbtree=1 crf=17.0 qcomp=0.60 qpmin=0 qpmax=69 qpstep=4 ip_ratio=1.40 aq=1:1.00\n",
      "Output #0, mp4, to './recordings/pred/SuperMarioWorld-Snes-YoshiIsland2-000003.mp4':\n",
      "  Metadata:\n",
      "    encoder         : Lavf58.76.100\n",
      "  Stream #0:0: Video: h264 (avc1 / 0x31637661), yuv420p(tv, progressive), 256x224, q=2-31, 60.10 fps, 703096 tbn\n",
      "    Metadata:\n",
      "      encoder         : Lavc58.134.100 libx264\n",
      "    Side data:\n",
      "      cpb: bitrate max/min/avg: 0/0/0 buffer size: 0 vbv_delay: N/A\n",
      "  Stream #0:1: Audio: aac (LC) (mp4a / 0x6134706D), 32000 Hz, stereo, fltp, 128 kb/s\n",
      "    Metadata:\n",
      "      encoder         : Lavc58.134.100 aac\n",
      "[s16le @ 0x564a04cd8400] Thread message queue blocking; consider raising the thread_queue_size option (current value: 60)\n",
      "frame= 4249 fps=1307 q=-1.0 Lsize=    4300kB time=00:01:10.65 bitrate= 498.6kbits/s speed=21.7x    \n",
      "video:3109kB audio:1115kB subtitle:0kB other streams:0kB global headers:0kB muxing overhead: 1.813055%\n",
      "[libx264 @ 0x564a04cee7c0] frame I:22    Avg QP:13.18  size: 12109\n",
      "[libx264 @ 0x564a04cee7c0] frame P:2106  Avg QP:18.25  size:  1173\n",
      "[libx264 @ 0x564a04cee7c0] frame B:2121  Avg QP:23.86  size:   210\n",
      "[libx264 @ 0x564a04cee7c0] consecutive B-frames: 18.8% 41.3%  7.9% 32.0%\n",
      "[libx264 @ 0x564a04cee7c0] mb I  I16..4: 21.8% 16.8% 61.3%\n",
      "[libx264 @ 0x564a04cee7c0] mb P  I16..4:  1.6%  1.0%  0.9%  P16..4: 32.6%  8.3%  6.9%  0.0%  0.0%    skip:48.7%\n",
      "[libx264 @ 0x564a04cee7c0] mb B  I16..4:  0.2%  0.2%  0.0%  B16..8: 21.7%  4.0%  1.1%  direct: 1.5%  skip:71.3%  L0:40.6% L1:54.8% BI: 4.5%\n",
      "[libx264 @ 0x564a04cee7c0] 8x8 transform intra:28.5% inter:18.7%\n",
      "[libx264 @ 0x564a04cee7c0] direct mvs  spatial:95.0% temporal:5.0%\n",
      "[libx264 @ 0x564a04cee7c0] coded y,uvDC,uvAC intra: 23.1% 53.7% 46.0% inter: 4.4% 12.3% 8.9%\n",
      "[libx264 @ 0x564a04cee7c0] i16 v,h,dc,p: 59% 31% 10%  0%\n",
      "[libx264 @ 0x564a04cee7c0] i8 v,h,dc,ddl,ddr,vr,hd,vl,hu: 18%  8% 70%  1%  0%  0%  0%  1%  2%\n",
      "[libx264 @ 0x564a04cee7c0] i4 v,h,dc,ddl,ddr,vr,hd,vl,hu: 37% 20% 26%  2%  3%  2%  2%  3%  5%\n",
      "[libx264 @ 0x564a04cee7c0] i8c dc,h,v,p: 50% 29% 19%  1%\n",
      "[libx264 @ 0x564a04cee7c0] Weighted P-Frames: Y:4.6% UV:4.6%\n",
      "[libx264 @ 0x564a04cee7c0] ref P L0: 58.6%  1.4% 14.7% 10.8% 10.8%  3.7%  0.0%\n",
      "[libx264 @ 0x564a04cee7c0] ref B L0: 87.5%  8.7%  3.1%  0.7%\n",
      "[libx264 @ 0x564a04cee7c0] ref B L1: 99.1%  0.9%\n",
      "[libx264 @ 0x564a04cee7c0] kb/s:360.19\n",
      "[aac @ 0x564a04cf0440] Qavg: 6447.622\n"
     ]
    },
    {
     "name": "stdout",
     "output_type": "stream",
     "text": [
      "moving SuperMarioWorld-Snes-YoshiIsland2-000003.mp4 to video folder: ./recordings/pred/videos/\n",
      "\n",
      "The file SuperMarioWorld-Snes-YoshiIsland2-000004.bk2 (input log size 115) has been deleted.\n",
      "The file SuperMarioWorld-Snes-YoshiIsland2-000005.bk2 contains key presses.\n",
      "converting SuperMarioWorld-Snes-YoshiIsland2-000005.bk2 into .mp4\n",
      "\n"
     ]
    },
    {
     "name": "stderr",
     "output_type": "stream",
     "text": [
      "ffmpeg version 4.4.2-0ubuntu0.22.04.1 Copyright (c) 2000-2021 the FFmpeg developers\n",
      "  built with gcc 11 (Ubuntu 11.2.0-19ubuntu1)\n",
      "  configuration: --prefix=/usr --extra-version=0ubuntu0.22.04.1 --toolchain=hardened --libdir=/usr/lib/x86_64-linux-gnu --incdir=/usr/include/x86_64-linux-gnu --arch=amd64 --enable-gpl --disable-stripping --enable-gnutls --enable-ladspa --enable-libaom --enable-libass --enable-libbluray --enable-libbs2b --enable-libcaca --enable-libcdio --enable-libcodec2 --enable-libdav1d --enable-libflite --enable-libfontconfig --enable-libfreetype --enable-libfribidi --enable-libgme --enable-libgsm --enable-libjack --enable-libmp3lame --enable-libmysofa --enable-libopenjpeg --enable-libopenmpt --enable-libopus --enable-libpulse --enable-librabbitmq --enable-librubberband --enable-libshine --enable-libsnappy --enable-libsoxr --enable-libspeex --enable-libsrt --enable-libssh --enable-libtheora --enable-libtwolame --enable-libvidstab --enable-libvorbis --enable-libvpx --enable-libwebp --enable-libx265 --enable-libxml2 --enable-libxvid --enable-libzimg --enable-libzmq --enable-libzvbi --enable-lv2 --enable-omx --enable-openal --enable-opencl --enable-opengl --enable-sdl2 --enable-pocketsphinx --enable-librsvg --enable-libmfx --enable-libdc1394 --enable-libdrm --enable-libiec61883 --enable-chromaprint --enable-frei0r --enable-libx264 --enable-shared\n",
      "  libavutil      56. 70.100 / 56. 70.100\n",
      "  libavcodec     58.134.100 / 58.134.100\n",
      "  libavformat    58. 76.100 / 58. 76.100\n",
      "  libavdevice    58. 13.100 / 58. 13.100\n",
      "  libavfilter     7.110.100 /  7.110.100\n",
      "  libswscale      5.  9.100 /  5.  9.100\n",
      "  libswresample   3.  9.100 /  3.  9.100\n",
      "  libpostproc    55.  9.100 / 55.  9.100\n",
      "Input #0, rawvideo, from 'tcp://127.0.0.1:55837?listen':\n",
      "  Duration: N/A, start: 0.000000, bitrate: 82711 kb/s\n",
      "  Stream #0:0: Video: rawvideo (RGB[24] / 0x18424752), rgb24, 256x224, 82711 kb/s, 60.10 tbr, 60.10 tbn, 60.10 tbc\n",
      "Guessed Channel Layout for Input Stream #1.0 : stereo\n",
      "Input #1, s16le, from 'tcp://127.0.0.1:49759?listen':\n",
      "  Duration: N/A, bitrate: 1025 kb/s\n",
      "  Stream #1:0: Audio: pcm_s16le, 32040 Hz, stereo, s16, 1025 kb/s\n",
      "Stream mapping:\n",
      "  Stream #0:0 -> #0:0 (rawvideo (native) -> h264 (libx264))\n",
      "  Stream #1:0 -> #0:1 (pcm_s16le (native) -> aac (native))\n",
      "Press [q] to stop, [?] for help\n",
      "[libx264 @ 0x55a0479d87c0] using cpu capabilities: MMX2 SSE2Fast SSSE3 SSE4.2 AVX FMA3 BMI2 AVX2\n",
      "[libx264 @ 0x55a0479d87c0] profile High, level 2.1, 4:2:0, 8-bit\n",
      "[libx264 @ 0x55a0479d87c0] 264 - core 163 r3060 5db6aa6 - H.264/MPEG-4 AVC codec - Copyleft 2003-2021 - http://www.videolan.org/x264.html - options: cabac=1 ref=5 deblock=1:0:0 analyse=0x3:0x113 me=hex subme=8 psy=1 psy_rd=1.00:0.00 mixed_ref=1 me_range=16 chroma_me=1 trellis=2 8x8dct=1 cqm=0 deadzone=21,11 fast_pskip=1 chroma_qp_offset=-2 threads=7 lookahead_threads=1 sliced_threads=0 nr=0 decimate=1 interlaced=0 bluray_compat=0 constrained_intra=0 bframes=3 b_pyramid=2 b_adapt=1 b_bias=0 direct=3 weightb=1 open_gop=0 weightp=2 keyint=250 keyint_min=25 scenecut=40 intra_refresh=0 rc_lookahead=50 rc=crf mbtree=1 crf=17.0 qcomp=0.60 qpmin=0 qpmax=69 qpstep=4 ip_ratio=1.40 aq=1:1.00\n",
      "Output #0, mp4, to './recordings/pred/SuperMarioWorld-Snes-YoshiIsland2-000005.mp4':\n",
      "  Metadata:\n",
      "    encoder         : Lavf58.76.100\n",
      "  Stream #0:0: Video: h264 (avc1 / 0x31637661), yuv420p(tv, progressive), 256x224, q=2-31, 60.10 fps, 703096 tbn\n",
      "    Metadata:\n",
      "      encoder         : Lavc58.134.100 libx264\n",
      "    Side data:\n",
      "      cpb: bitrate max/min/avg: 0/0/0 buffer size: 0 vbv_delay: N/A\n",
      "  Stream #0:1: Audio: aac (LC) (mp4a / 0x6134706D), 32000 Hz, stereo, fltp, 128 kb/s\n",
      "    Metadata:\n",
      "      encoder         : Lavc58.134.100 aac\n",
      "[s16le @ 0x55a0479c2400] Thread message queue blocking; consider raising the thread_queue_size option (current value: 60)\n",
      "frame= 5020 fps=1305 q=-1.0 Lsize=    4819kB time=00:01:23.48 bitrate= 472.8kbits/s speed=21.7x    \n",
      "video:3418kB audio:1310kB subtitle:0kB other streams:0kB global headers:0kB muxing overhead: 1.917953%\n",
      "[libx264 @ 0x55a0479d87c0] frame I:27    Avg QP:12.58  size: 11912\n",
      "[libx264 @ 0x55a0479d87c0] frame P:2376  Avg QP:17.87  size:  1131\n",
      "[libx264 @ 0x55a0479d87c0] frame B:2617  Avg QP:22.71  size:   187\n",
      "[libx264 @ 0x55a0479d87c0] consecutive B-frames: 17.3% 37.0%  7.8% 37.9%\n",
      "[libx264 @ 0x55a0479d87c0] mb I  I16..4: 24.5% 17.0% 58.5%\n",
      "[libx264 @ 0x55a0479d87c0] mb P  I16..4:  1.7%  1.2%  1.0%  P16..4: 30.6%  7.7%  6.4%  0.0%  0.0%    skip:51.3%\n",
      "[libx264 @ 0x55a0479d87c0] mb B  I16..4:  0.2%  0.2%  0.0%  B16..8: 19.2%  3.5%  1.0%  direct: 1.5%  skip:74.4%  L0:41.3% L1:54.2% BI: 4.5%\n",
      "[libx264 @ 0x55a0479d87c0] 8x8 transform intra:29.3% inter:22.0%\n",
      "[libx264 @ 0x55a0479d87c0] direct mvs  spatial:95.1% temporal:4.9%\n",
      "[libx264 @ 0x55a0479d87c0] coded y,uvDC,uvAC intra: 23.5% 54.1% 45.8% inter: 4.3% 11.5% 7.9%\n",
      "[libx264 @ 0x55a0479d87c0] i16 v,h,dc,p: 58% 32% 10%  0%\n",
      "[libx264 @ 0x55a0479d87c0] i8 v,h,dc,ddl,ddr,vr,hd,vl,hu: 19%  9% 67%  1%  0%  0%  1%  1%  2%\n",
      "[libx264 @ 0x55a0479d87c0] i4 v,h,dc,ddl,ddr,vr,hd,vl,hu: 38% 21% 24%  2%  2%  2%  2%  3%  5%\n",
      "[libx264 @ 0x55a0479d87c0] i8c dc,h,v,p: 49% 30% 19%  2%\n",
      "[libx264 @ 0x55a0479d87c0] Weighted P-Frames: Y:6.0% UV:6.0%\n",
      "[libx264 @ 0x55a0479d87c0] ref P L0: 60.1%  1.6% 13.4% 10.6% 11.2%  3.1%  0.0%\n",
      "[libx264 @ 0x55a0479d87c0] ref B L0: 86.9%  9.1%  3.2%  0.7%\n",
      "[libx264 @ 0x55a0479d87c0] ref B L1: 99.0%  1.0%\n",
      "[libx264 @ 0x55a0479d87c0] kb/s:335.13\n",
      "[aac @ 0x55a0479da440] Qavg: 8400.734\n"
     ]
    },
    {
     "name": "stdout",
     "output_type": "stream",
     "text": [
      "moving SuperMarioWorld-Snes-YoshiIsland2-000005.mp4 to video folder: ./recordings/pred/videos/\n",
      "\n",
      "The file SuperMarioWorld-Snes-YoshiIsland2-000006.bk2 (input log size 115) has been deleted.\n",
      "The file SuperMarioWorld-Snes-YoshiIsland2-000007.bk2 contains key presses.\n",
      "converting SuperMarioWorld-Snes-YoshiIsland2-000007.bk2 into .mp4\n",
      "\n"
     ]
    },
    {
     "name": "stderr",
     "output_type": "stream",
     "text": [
      "ffmpeg version 4.4.2-0ubuntu0.22.04.1 Copyright (c) 2000-2021 the FFmpeg developers\n",
      "  built with gcc 11 (Ubuntu 11.2.0-19ubuntu1)\n",
      "  configuration: --prefix=/usr --extra-version=0ubuntu0.22.04.1 --toolchain=hardened --libdir=/usr/lib/x86_64-linux-gnu --incdir=/usr/include/x86_64-linux-gnu --arch=amd64 --enable-gpl --disable-stripping --enable-gnutls --enable-ladspa --enable-libaom --enable-libass --enable-libbluray --enable-libbs2b --enable-libcaca --enable-libcdio --enable-libcodec2 --enable-libdav1d --enable-libflite --enable-libfontconfig --enable-libfreetype --enable-libfribidi --enable-libgme --enable-libgsm --enable-libjack --enable-libmp3lame --enable-libmysofa --enable-libopenjpeg --enable-libopenmpt --enable-libopus --enable-libpulse --enable-librabbitmq --enable-librubberband --enable-libshine --enable-libsnappy --enable-libsoxr --enable-libspeex --enable-libsrt --enable-libssh --enable-libtheora --enable-libtwolame --enable-libvidstab --enable-libvorbis --enable-libvpx --enable-libwebp --enable-libx265 --enable-libxml2 --enable-libxvid --enable-libzimg --enable-libzmq --enable-libzvbi --enable-lv2 --enable-omx --enable-openal --enable-opencl --enable-opengl --enable-sdl2 --enable-pocketsphinx --enable-librsvg --enable-libmfx --enable-libdc1394 --enable-libdrm --enable-libiec61883 --enable-chromaprint --enable-frei0r --enable-libx264 --enable-shared\n",
      "  libavutil      56. 70.100 / 56. 70.100\n",
      "  libavcodec     58.134.100 / 58.134.100\n",
      "  libavformat    58. 76.100 / 58. 76.100\n",
      "  libavdevice    58. 13.100 / 58. 13.100\n",
      "  libavfilter     7.110.100 /  7.110.100\n",
      "  libswscale      5.  9.100 /  5.  9.100\n",
      "  libswresample   3.  9.100 /  3.  9.100\n",
      "  libpostproc    55.  9.100 / 55.  9.100\n",
      "Input #0, rawvideo, from 'tcp://127.0.0.1:57095?listen':\n",
      "  Duration: N/A, start: 0.000000, bitrate: 82711 kb/s\n",
      "  Stream #0:0: Video: rawvideo (RGB[24] / 0x18424752), rgb24, 256x224, 82711 kb/s, 60.10 tbr, 60.10 tbn, 60.10 tbc\n",
      "Guessed Channel Layout for Input Stream #1.0 : stereo\n",
      "Input #1, s16le, from 'tcp://127.0.0.1:38033?listen':\n",
      "  Duration: N/A, bitrate: 1025 kb/s\n",
      "  Stream #1:0: Audio: pcm_s16le, 32040 Hz, stereo, s16, 1025 kb/s\n",
      "Stream mapping:\n",
      "  Stream #0:0 -> #0:0 (rawvideo (native) -> h264 (libx264))\n",
      "  Stream #1:0 -> #0:1 (pcm_s16le (native) -> aac (native))\n",
      "Press [q] to stop, [?] for help\n",
      "[libx264 @ 0x56425663e7c0] using cpu capabilities: MMX2 SSE2Fast SSSE3 SSE4.2 AVX FMA3 BMI2 AVX2\n",
      "[libx264 @ 0x56425663e7c0] profile High, level 2.1, 4:2:0, 8-bit\n",
      "[libx264 @ 0x56425663e7c0] 264 - core 163 r3060 5db6aa6 - H.264/MPEG-4 AVC codec - Copyleft 2003-2021 - http://www.videolan.org/x264.html - options: cabac=1 ref=5 deblock=1:0:0 analyse=0x3:0x113 me=hex subme=8 psy=1 psy_rd=1.00:0.00 mixed_ref=1 me_range=16 chroma_me=1 trellis=2 8x8dct=1 cqm=0 deadzone=21,11 fast_pskip=1 chroma_qp_offset=-2 threads=7 lookahead_threads=1 sliced_threads=0 nr=0 decimate=1 interlaced=0 bluray_compat=0 constrained_intra=0 bframes=3 b_pyramid=2 b_adapt=1 b_bias=0 direct=3 weightb=1 open_gop=0 weightp=2 keyint=250 keyint_min=25 scenecut=40 intra_refresh=0 rc_lookahead=50 rc=crf mbtree=1 crf=17.0 qcomp=0.60 qpmin=0 qpmax=69 qpstep=4 ip_ratio=1.40 aq=1:1.00\n",
      "Output #0, mp4, to './recordings/pred/SuperMarioWorld-Snes-YoshiIsland2-000007.mp4':\n",
      "  Metadata:\n",
      "    encoder         : Lavf58.76.100\n",
      "  Stream #0:0: Video: h264 (avc1 / 0x31637661), yuv420p(tv, progressive), 256x224, q=2-31, 60.10 fps, 703096 tbn\n",
      "    Metadata:\n",
      "      encoder         : Lavc58.134.100 libx264\n",
      "    Side data:\n",
      "      cpb: bitrate max/min/avg: 0/0/0 buffer size: 0 vbv_delay: N/A\n",
      "  Stream #0:1: Audio: aac (LC) (mp4a / 0x6134706D), 32000 Hz, stereo, fltp, 128 kb/s\n",
      "    Metadata:\n",
      "      encoder         : Lavc58.134.100 aac\n",
      "[s16le @ 0x564256628400] Thread message queue blocking; consider raising the thread_queue_size option (current value: 60)\n",
      "frame= 3438 fps=1369 q=-1.0 Lsize=    2504kB time=00:00:57.15 bitrate= 358.9kbits/s speed=22.8x    \n",
      "video:1601kB audio:840kB subtitle:0kB other streams:0kB global headers:0kB muxing overhead: 2.570019%\n",
      "[libx264 @ 0x56425663e7c0] frame I:22    Avg QP:11.59  size:  8474\n",
      "[libx264 @ 0x56425663e7c0] frame P:1372  Avg QP:17.07  size:   886\n",
      "[libx264 @ 0x56425663e7c0] frame B:2044  Avg QP:20.76  size:   116\n",
      "[libx264 @ 0x56425663e7c0] consecutive B-frames: 14.5% 15.4%  9.4% 60.6%\n",
      "[libx264 @ 0x56425663e7c0] mb I  I16..4: 32.9% 21.1% 46.0%\n",
      "[libx264 @ 0x56425663e7c0] mb P  I16..4:  2.4%  1.9%  2.0%  P16..4: 19.6%  4.0%  3.6%  0.0%  0.0%    skip:66.3%\n",
      "[libx264 @ 0x56425663e7c0] mb B  I16..4:  0.2%  0.2%  0.0%  B16..8:  7.6%  1.3%  0.5%  direct: 1.4%  skip:88.8%  L0:43.5% L1:52.7% BI: 3.8%\n",
      "[libx264 @ 0x56425663e7c0] 8x8 transform intra:29.0% inter:45.5%\n",
      "[libx264 @ 0x56425663e7c0] direct mvs  spatial:95.9% temporal:4.1%\n",
      "[libx264 @ 0x56425663e7c0] coded y,uvDC,uvAC intra: 25.1% 56.8% 46.9% inter: 3.9% 8.6% 4.3%\n",
      "[libx264 @ 0x56425663e7c0] i16 v,h,dc,p: 53% 36% 11%  0%\n",
      "[libx264 @ 0x56425663e7c0] i8 v,h,dc,ddl,ddr,vr,hd,vl,hu: 23% 12% 59%  1%  0%  1%  1%  1%  2%\n",
      "[libx264 @ 0x56425663e7c0] i4 v,h,dc,ddl,ddr,vr,hd,vl,hu: 42% 24% 21%  2%  2%  2%  2%  2%  3%\n",
      "[libx264 @ 0x56425663e7c0] i8c dc,h,v,p: 47% 32% 19%  2%\n",
      "[libx264 @ 0x56425663e7c0] Weighted P-Frames: Y:13.9% UV:13.9%\n",
      "[libx264 @ 0x56425663e7c0] ref P L0: 67.9%  3.3% 13.4%  8.2%  5.4%  1.7%  0.2%\n",
      "[libx264 @ 0x56425663e7c0] ref B L0: 85.3% 10.4%  3.3%  1.1%\n",
      "[libx264 @ 0x56425663e7c0] ref B L1: 98.5%  1.5%\n",
      "[libx264 @ 0x56425663e7c0] kb/s:229.19\n",
      "[aac @ 0x564256640440] Qavg: 15239.510\n"
     ]
    },
    {
     "name": "stdout",
     "output_type": "stream",
     "text": [
      "moving SuperMarioWorld-Snes-YoshiIsland2-000007.mp4 to video folder: ./recordings/pred/videos/\n",
      "\n",
      "The file SuperMarioWorld-Snes-YoshiIsland2-000008.bk2 (input log size 115) has been deleted.\n",
      "The file SuperMarioWorld-Snes-YoshiIsland2-000009.bk2 contains key presses.\n",
      "converting SuperMarioWorld-Snes-YoshiIsland2-000009.bk2 into .mp4\n",
      "\n"
     ]
    },
    {
     "name": "stderr",
     "output_type": "stream",
     "text": [
      "ffmpeg version 4.4.2-0ubuntu0.22.04.1 Copyright (c) 2000-2021 the FFmpeg developers\n",
      "  built with gcc 11 (Ubuntu 11.2.0-19ubuntu1)\n",
      "  configuration: --prefix=/usr --extra-version=0ubuntu0.22.04.1 --toolchain=hardened --libdir=/usr/lib/x86_64-linux-gnu --incdir=/usr/include/x86_64-linux-gnu --arch=amd64 --enable-gpl --disable-stripping --enable-gnutls --enable-ladspa --enable-libaom --enable-libass --enable-libbluray --enable-libbs2b --enable-libcaca --enable-libcdio --enable-libcodec2 --enable-libdav1d --enable-libflite --enable-libfontconfig --enable-libfreetype --enable-libfribidi --enable-libgme --enable-libgsm --enable-libjack --enable-libmp3lame --enable-libmysofa --enable-libopenjpeg --enable-libopenmpt --enable-libopus --enable-libpulse --enable-librabbitmq --enable-librubberband --enable-libshine --enable-libsnappy --enable-libsoxr --enable-libspeex --enable-libsrt --enable-libssh --enable-libtheora --enable-libtwolame --enable-libvidstab --enable-libvorbis --enable-libvpx --enable-libwebp --enable-libx265 --enable-libxml2 --enable-libxvid --enable-libzimg --enable-libzmq --enable-libzvbi --enable-lv2 --enable-omx --enable-openal --enable-opencl --enable-opengl --enable-sdl2 --enable-pocketsphinx --enable-librsvg --enable-libmfx --enable-libdc1394 --enable-libdrm --enable-libiec61883 --enable-chromaprint --enable-frei0r --enable-libx264 --enable-shared\n",
      "  libavutil      56. 70.100 / 56. 70.100\n",
      "  libavcodec     58.134.100 / 58.134.100\n",
      "  libavformat    58. 76.100 / 58. 76.100\n",
      "  libavdevice    58. 13.100 / 58. 13.100\n",
      "  libavfilter     7.110.100 /  7.110.100\n",
      "  libswscale      5.  9.100 /  5.  9.100\n",
      "  libswresample   3.  9.100 /  3.  9.100\n",
      "  libpostproc    55.  9.100 / 55.  9.100\n",
      "Input #0, rawvideo, from 'tcp://127.0.0.1:41137?listen':\n",
      "  Duration: N/A, start: 0.000000, bitrate: 82711 kb/s\n",
      "  Stream #0:0: Video: rawvideo (RGB[24] / 0x18424752), rgb24, 256x224, 82711 kb/s, 60.10 tbr, 60.10 tbn, 60.10 tbc\n",
      "Guessed Channel Layout for Input Stream #1.0 : stereo\n",
      "Input #1, s16le, from 'tcp://127.0.0.1:41105?listen':\n",
      "  Duration: N/A, bitrate: 1025 kb/s\n",
      "  Stream #1:0: Audio: pcm_s16le, 32040 Hz, stereo, s16, 1025 kb/s\n",
      "Stream mapping:\n",
      "  Stream #0:0 -> #0:0 (rawvideo (native) -> h264 (libx264))\n",
      "  Stream #1:0 -> #0:1 (pcm_s16le (native) -> aac (native))\n",
      "Press [q] to stop, [?] for help\n",
      "[libx264 @ 0x55e441b1c7c0] using cpu capabilities: MMX2 SSE2Fast SSSE3 SSE4.2 AVX FMA3 BMI2 AVX2\n",
      "[libx264 @ 0x55e441b1c7c0] profile High, level 2.1, 4:2:0, 8-bit\n",
      "[libx264 @ 0x55e441b1c7c0] 264 - core 163 r3060 5db6aa6 - H.264/MPEG-4 AVC codec - Copyleft 2003-2021 - http://www.videolan.org/x264.html - options: cabac=1 ref=5 deblock=1:0:0 analyse=0x3:0x113 me=hex subme=8 psy=1 psy_rd=1.00:0.00 mixed_ref=1 me_range=16 chroma_me=1 trellis=2 8x8dct=1 cqm=0 deadzone=21,11 fast_pskip=1 chroma_qp_offset=-2 threads=7 lookahead_threads=1 sliced_threads=0 nr=0 decimate=1 interlaced=0 bluray_compat=0 constrained_intra=0 bframes=3 b_pyramid=2 b_adapt=1 b_bias=0 direct=3 weightb=1 open_gop=0 weightp=2 keyint=250 keyint_min=25 scenecut=40 intra_refresh=0 rc_lookahead=50 rc=crf mbtree=1 crf=17.0 qcomp=0.60 qpmin=0 qpmax=69 qpstep=4 ip_ratio=1.40 aq=1:1.00\n",
      "Output #0, mp4, to './recordings/pred/SuperMarioWorld-Snes-YoshiIsland2-000009.mp4':\n",
      "  Metadata:\n",
      "    encoder         : Lavf58.76.100\n",
      "  Stream #0:0: Video: h264 (avc1 / 0x31637661), yuv420p(tv, progressive), 256x224, q=2-31, 60.10 fps, 703096 tbn\n",
      "    Metadata:\n",
      "      encoder         : Lavc58.134.100 libx264\n",
      "    Side data:\n",
      "      cpb: bitrate max/min/avg: 0/0/0 buffer size: 0 vbv_delay: N/A\n",
      "  Stream #0:1: Audio: aac (LC) (mp4a / 0x6134706D), 32000 Hz, stereo, fltp, 128 kb/s\n",
      "    Metadata:\n",
      "      encoder         : Lavc58.134.100 aac\n",
      "[s16le @ 0x55e441b06400] Thread message queue blocking; consider raising the thread_queue_size option (current value: 60)\n",
      "frame= 6463 fps=1171 q=-1.0 Lsize=    5671kB time=00:01:47.48 bitrate= 432.2kbits/s speed=19.5x    \n",
      "video:3899kB audio:1656kB subtitle:0kB other streams:0kB global headers:0kB muxing overhead: 2.084671%\n",
      "[libx264 @ 0x55e441b1c7c0] frame I:34    Avg QP:12.34  size: 12131\n",
      "[libx264 @ 0x55e441b1c7c0] frame P:2860  Avg QP:17.34  size:  1068\n",
      "[libx264 @ 0x55e441b1c7c0] frame B:3569  Avg QP:19.76  size:   147\n",
      "[libx264 @ 0x55e441b1c7c0] consecutive B-frames: 17.8% 23.3%  7.4% 51.6%\n",
      "[libx264 @ 0x55e441b1c7c0] mb I  I16..4: 25.2% 18.3% 56.5%\n",
      "[libx264 @ 0x55e441b1c7c0] mb P  I16..4:  1.9%  1.4%  1.4%  P16..4: 28.8%  6.6%  5.6%  0.0%  0.0%    skip:54.3%\n",
      "[libx264 @ 0x55e441b1c7c0] mb B  I16..4:  0.2%  0.2%  0.0%  B16..8: 12.4%  2.2%  0.7%  direct: 1.4%  skip:82.9%  L0:41.8% L1:54.2% BI: 3.9%\n",
      "[libx264 @ 0x55e441b1c7c0] 8x8 transform intra:28.6% inter:28.7%\n",
      "[libx264 @ 0x55e441b1c7c0] direct mvs  spatial:95.8% temporal:4.2%\n",
      "[libx264 @ 0x55e441b1c7c0] coded y,uvDC,uvAC intra: 24.3% 56.0% 47.0% inter: 4.2% 10.5% 6.7%\n",
      "[libx264 @ 0x55e441b1c7c0] i16 v,h,dc,p: 56% 34% 10%  0%\n",
      "[libx264 @ 0x55e441b1c7c0] i8 v,h,dc,ddl,ddr,vr,hd,vl,hu: 21% 10% 64%  1%  0%  0%  0%  1%  2%\n",
      "[libx264 @ 0x55e441b1c7c0] i4 v,h,dc,ddl,ddr,vr,hd,vl,hu: 40% 22% 23%  2%  2%  2%  2%  2%  4%\n",
      "[libx264 @ 0x55e441b1c7c0] i8c dc,h,v,p: 48% 31% 20%  2%\n",
      "[libx264 @ 0x55e441b1c7c0] Weighted P-Frames: Y:8.4% UV:8.4%\n",
      "[libx264 @ 0x55e441b1c7c0] ref P L0: 56.9%  1.8% 17.8% 12.6%  8.3%  2.6%  0.0%\n",
      "[libx264 @ 0x55e441b1c7c0] ref B L0: 85.5% 10.0%  3.6%  0.9%\n",
      "[libx264 @ 0x55e441b1c7c0] ref B L1: 98.9%  1.1%\n",
      "[libx264 @ 0x55e441b1c7c0] kb/s:296.97\n",
      "[aac @ 0x55e441b1e440] Qavg: 10758.869\n"
     ]
    },
    {
     "name": "stdout",
     "output_type": "stream",
     "text": [
      "moving SuperMarioWorld-Snes-YoshiIsland2-000009.mp4 to video folder: ./recordings/pred/videos/\n",
      "\n",
      "The file SuperMarioWorld-Snes-YoshiIsland2-000010.bk2 (input log size 115) has been deleted.\n",
      "The file SuperMarioWorld-Snes-YoshiIsland2-000011.bk2 contains key presses.\n",
      "converting SuperMarioWorld-Snes-YoshiIsland2-000011.bk2 into .mp4\n",
      "\n"
     ]
    },
    {
     "name": "stderr",
     "output_type": "stream",
     "text": [
      "ffmpeg version 4.4.2-0ubuntu0.22.04.1 Copyright (c) 2000-2021 the FFmpeg developers\n",
      "  built with gcc 11 (Ubuntu 11.2.0-19ubuntu1)\n",
      "  configuration: --prefix=/usr --extra-version=0ubuntu0.22.04.1 --toolchain=hardened --libdir=/usr/lib/x86_64-linux-gnu --incdir=/usr/include/x86_64-linux-gnu --arch=amd64 --enable-gpl --disable-stripping --enable-gnutls --enable-ladspa --enable-libaom --enable-libass --enable-libbluray --enable-libbs2b --enable-libcaca --enable-libcdio --enable-libcodec2 --enable-libdav1d --enable-libflite --enable-libfontconfig --enable-libfreetype --enable-libfribidi --enable-libgme --enable-libgsm --enable-libjack --enable-libmp3lame --enable-libmysofa --enable-libopenjpeg --enable-libopenmpt --enable-libopus --enable-libpulse --enable-librabbitmq --enable-librubberband --enable-libshine --enable-libsnappy --enable-libsoxr --enable-libspeex --enable-libsrt --enable-libssh --enable-libtheora --enable-libtwolame --enable-libvidstab --enable-libvorbis --enable-libvpx --enable-libwebp --enable-libx265 --enable-libxml2 --enable-libxvid --enable-libzimg --enable-libzmq --enable-libzvbi --enable-lv2 --enable-omx --enable-openal --enable-opencl --enable-opengl --enable-sdl2 --enable-pocketsphinx --enable-librsvg --enable-libmfx --enable-libdc1394 --enable-libdrm --enable-libiec61883 --enable-chromaprint --enable-frei0r --enable-libx264 --enable-shared\n",
      "  libavutil      56. 70.100 / 56. 70.100\n",
      "  libavcodec     58.134.100 / 58.134.100\n",
      "  libavformat    58. 76.100 / 58. 76.100\n",
      "  libavdevice    58. 13.100 / 58. 13.100\n",
      "  libavfilter     7.110.100 /  7.110.100\n",
      "  libswscale      5.  9.100 /  5.  9.100\n",
      "  libswresample   3.  9.100 /  3.  9.100\n",
      "  libpostproc    55.  9.100 / 55.  9.100\n",
      "Input #0, rawvideo, from 'tcp://127.0.0.1:58721?listen':\n",
      "  Duration: N/A, start: 0.000000, bitrate: 82711 kb/s\n",
      "  Stream #0:0: Video: rawvideo (RGB[24] / 0x18424752), rgb24, 256x224, 82711 kb/s, 60.10 tbr, 60.10 tbn, 60.10 tbc\n",
      "Guessed Channel Layout for Input Stream #1.0 : stereo\n",
      "Input #1, s16le, from 'tcp://127.0.0.1:44345?listen':\n",
      "  Duration: N/A, bitrate: 1025 kb/s\n",
      "  Stream #1:0: Audio: pcm_s16le, 32040 Hz, stereo, s16, 1025 kb/s\n",
      "Stream mapping:\n",
      "  Stream #0:0 -> #0:0 (rawvideo (native) -> h264 (libx264))\n",
      "  Stream #1:0 -> #0:1 (pcm_s16le (native) -> aac (native))\n",
      "Press [q] to stop, [?] for help\n",
      "[libx264 @ 0x564aab5ff7c0] using cpu capabilities: MMX2 SSE2Fast SSSE3 SSE4.2 AVX FMA3 BMI2 AVX2\n",
      "[libx264 @ 0x564aab5ff7c0] profile High, level 2.1, 4:2:0, 8-bit\n",
      "[libx264 @ 0x564aab5ff7c0] 264 - core 163 r3060 5db6aa6 - H.264/MPEG-4 AVC codec - Copyleft 2003-2021 - http://www.videolan.org/x264.html - options: cabac=1 ref=5 deblock=1:0:0 analyse=0x3:0x113 me=hex subme=8 psy=1 psy_rd=1.00:0.00 mixed_ref=1 me_range=16 chroma_me=1 trellis=2 8x8dct=1 cqm=0 deadzone=21,11 fast_pskip=1 chroma_qp_offset=-2 threads=7 lookahead_threads=1 sliced_threads=0 nr=0 decimate=1 interlaced=0 bluray_compat=0 constrained_intra=0 bframes=3 b_pyramid=2 b_adapt=1 b_bias=0 direct=3 weightb=1 open_gop=0 weightp=2 keyint=250 keyint_min=25 scenecut=40 intra_refresh=0 rc_lookahead=50 rc=crf mbtree=1 crf=17.0 qcomp=0.60 qpmin=0 qpmax=69 qpstep=4 ip_ratio=1.40 aq=1:1.00\n",
      "Output #0, mp4, to './recordings/pred/SuperMarioWorld-Snes-YoshiIsland2-000011.mp4':\n",
      "  Metadata:\n",
      "    encoder         : Lavf58.76.100\n",
      "  Stream #0:0: Video: h264 (avc1 / 0x31637661), yuv420p(tv, progressive), 256x224, q=2-31, 60.10 fps, 703096 tbn\n",
      "    Metadata:\n",
      "      encoder         : Lavc58.134.100 libx264\n",
      "    Side data:\n",
      "      cpb: bitrate max/min/avg: 0/0/0 buffer size: 0 vbv_delay: N/A\n",
      "  Stream #0:1: Audio: aac (LC) (mp4a / 0x6134706D), 32000 Hz, stereo, fltp, 128 kb/s\n",
      "    Metadata:\n",
      "      encoder         : Lavc58.134.100 aac\n",
      "[s16le @ 0x564aab5e9400] Thread message queue blocking; consider raising the thread_queue_size option (current value: 60)\n",
      "frame= 7197 fps=1251 q=-1.0 Lsize=    7583kB time=00:01:59.71 bitrate= 518.9kbits/s speed=20.8x    \n",
      "video:5498kB audio:1958kB subtitle:0kB other streams:0kB global headers:0kB muxing overhead: 1.694267%\n",
      "[libx264 @ 0x564aab5ff7c0] frame I:31    Avg QP:13.31  size: 15804\n",
      "[libx264 @ 0x564aab5ff7c0] frame P:3626  Avg QP:18.27  size:  1181\n",
      "[libx264 @ 0x564aab5ff7c0] frame B:3540  Avg QP:25.87  size:   243\n",
      "[libx264 @ 0x564aab5ff7c0] consecutive B-frames: 23.4% 26.6% 18.9% 31.0%\n",
      "[libx264 @ 0x564aab5ff7c0] mb I  I16..4: 15.9%  9.8% 74.3%\n",
      "[libx264 @ 0x564aab5ff7c0] mb P  I16..4:  1.0%  0.7%  0.4%  P16..4: 40.3%  8.8%  7.3%  0.0%  0.0%    skip:41.5%\n",
      "[libx264 @ 0x564aab5ff7c0] mb B  I16..4:  0.1%  0.2%  0.0%  B16..8: 25.9%  3.3%  0.9%  direct: 1.0%  skip:68.7%  L0:44.8% L1:51.8% BI: 3.3%\n",
      "[libx264 @ 0x564aab5ff7c0] 8x8 transform intra:28.8% inter:11.0%\n",
      "[libx264 @ 0x564aab5ff7c0] direct mvs  spatial:98.9% temporal:1.1%\n",
      "[libx264 @ 0x564aab5ff7c0] coded y,uvDC,uvAC intra: 24.2% 53.0% 47.4% inter: 3.7% 13.7% 10.9%\n",
      "[libx264 @ 0x564aab5ff7c0] i16 v,h,dc,p: 62% 29%  9%  0%\n",
      "[libx264 @ 0x564aab5ff7c0] i8 v,h,dc,ddl,ddr,vr,hd,vl,hu: 11%  5% 80%  1%  0%  0%  0%  1%  2%\n",
      "[libx264 @ 0x564aab5ff7c0] i4 v,h,dc,ddl,ddr,vr,hd,vl,hu: 33% 18% 27%  3%  4%  3%  3%  4%  5%\n",
      "[libx264 @ 0x564aab5ff7c0] i8c dc,h,v,p: 50% 30% 18%  2%\n",
      "[libx264 @ 0x564aab5ff7c0] Weighted P-Frames: Y:1.3% UV:1.3%\n",
      "[libx264 @ 0x564aab5ff7c0] ref P L0: 43.7%  0.8% 33.8% 11.8%  8.0%  2.0%  0.0%\n",
      "[libx264 @ 0x564aab5ff7c0] ref B L0: 84.0% 11.7%  3.7%  0.6%\n",
      "[libx264 @ 0x564aab5ff7c0] ref B L1: 98.2%  1.8%\n",
      "[libx264 @ 0x564aab5ff7c0] kb/s:376.07\n",
      "[aac @ 0x564aab601440] Qavg: 2761.391\n"
     ]
    },
    {
     "name": "stdout",
     "output_type": "stream",
     "text": [
      "moving SuperMarioWorld-Snes-YoshiIsland2-000011.mp4 to video folder: ./recordings/pred/videos/\n",
      "\n",
      "The file SuperMarioWorld-Snes-YoshiIsland2-000012.bk2 (input log size 115) has been deleted.\n",
      "The file SuperMarioWorld-Snes-YoshiIsland2-000013.bk2 contains key presses.\n",
      "converting SuperMarioWorld-Snes-YoshiIsland2-000013.bk2 into .mp4\n",
      "\n"
     ]
    },
    {
     "name": "stderr",
     "output_type": "stream",
     "text": [
      "ffmpeg version 4.4.2-0ubuntu0.22.04.1 Copyright (c) 2000-2021 the FFmpeg developers\n",
      "  built with gcc 11 (Ubuntu 11.2.0-19ubuntu1)\n",
      "  configuration: --prefix=/usr --extra-version=0ubuntu0.22.04.1 --toolchain=hardened --libdir=/usr/lib/x86_64-linux-gnu --incdir=/usr/include/x86_64-linux-gnu --arch=amd64 --enable-gpl --disable-stripping --enable-gnutls --enable-ladspa --enable-libaom --enable-libass --enable-libbluray --enable-libbs2b --enable-libcaca --enable-libcdio --enable-libcodec2 --enable-libdav1d --enable-libflite --enable-libfontconfig --enable-libfreetype --enable-libfribidi --enable-libgme --enable-libgsm --enable-libjack --enable-libmp3lame --enable-libmysofa --enable-libopenjpeg --enable-libopenmpt --enable-libopus --enable-libpulse --enable-librabbitmq --enable-librubberband --enable-libshine --enable-libsnappy --enable-libsoxr --enable-libspeex --enable-libsrt --enable-libssh --enable-libtheora --enable-libtwolame --enable-libvidstab --enable-libvorbis --enable-libvpx --enable-libwebp --enable-libx265 --enable-libxml2 --enable-libxvid --enable-libzimg --enable-libzmq --enable-libzvbi --enable-lv2 --enable-omx --enable-openal --enable-opencl --enable-opengl --enable-sdl2 --enable-pocketsphinx --enable-librsvg --enable-libmfx --enable-libdc1394 --enable-libdrm --enable-libiec61883 --enable-chromaprint --enable-frei0r --enable-libx264 --enable-shared\n",
      "  libavutil      56. 70.100 / 56. 70.100\n",
      "  libavcodec     58.134.100 / 58.134.100\n",
      "  libavformat    58. 76.100 / 58. 76.100\n",
      "  libavdevice    58. 13.100 / 58. 13.100\n",
      "  libavfilter     7.110.100 /  7.110.100\n",
      "  libswscale      5.  9.100 /  5.  9.100\n",
      "  libswresample   3.  9.100 /  3.  9.100\n",
      "  libpostproc    55.  9.100 / 55.  9.100\n",
      "Input #0, rawvideo, from 'tcp://127.0.0.1:41439?listen':\n",
      "  Duration: N/A, start: 0.000000, bitrate: 82711 kb/s\n",
      "  Stream #0:0: Video: rawvideo (RGB[24] / 0x18424752), rgb24, 256x224, 82711 kb/s, 60.10 tbr, 60.10 tbn, 60.10 tbc\n",
      "Guessed Channel Layout for Input Stream #1.0 : stereo\n",
      "Input #1, s16le, from 'tcp://127.0.0.1:35885?listen':\n",
      "  Duration: N/A, bitrate: 1025 kb/s\n",
      "  Stream #1:0: Audio: pcm_s16le, 32040 Hz, stereo, s16, 1025 kb/s\n",
      "Stream mapping:\n",
      "  Stream #0:0 -> #0:0 (rawvideo (native) -> h264 (libx264))\n",
      "  Stream #1:0 -> #0:1 (pcm_s16le (native) -> aac (native))\n",
      "Press [q] to stop, [?] for help\n",
      "[libx264 @ 0x555ca87e67c0] using cpu capabilities: MMX2 SSE2Fast SSSE3 SSE4.2 AVX FMA3 BMI2 AVX2\n",
      "[libx264 @ 0x555ca87e67c0] profile High, level 2.1, 4:2:0, 8-bit\n",
      "[libx264 @ 0x555ca87e67c0] 264 - core 163 r3060 5db6aa6 - H.264/MPEG-4 AVC codec - Copyleft 2003-2021 - http://www.videolan.org/x264.html - options: cabac=1 ref=5 deblock=1:0:0 analyse=0x3:0x113 me=hex subme=8 psy=1 psy_rd=1.00:0.00 mixed_ref=1 me_range=16 chroma_me=1 trellis=2 8x8dct=1 cqm=0 deadzone=21,11 fast_pskip=1 chroma_qp_offset=-2 threads=7 lookahead_threads=1 sliced_threads=0 nr=0 decimate=1 interlaced=0 bluray_compat=0 constrained_intra=0 bframes=3 b_pyramid=2 b_adapt=1 b_bias=0 direct=3 weightb=1 open_gop=0 weightp=2 keyint=250 keyint_min=25 scenecut=40 intra_refresh=0 rc_lookahead=50 rc=crf mbtree=1 crf=17.0 qcomp=0.60 qpmin=0 qpmax=69 qpstep=4 ip_ratio=1.40 aq=1:1.00\n",
      "Output #0, mp4, to './recordings/pred/SuperMarioWorld-Snes-YoshiIsland2-000013.mp4':\n",
      "  Metadata:\n",
      "    encoder         : Lavf58.76.100\n",
      "  Stream #0:0: Video: h264 (avc1 / 0x31637661), yuv420p(tv, progressive), 256x224, q=2-31, 60.10 fps, 703096 tbn\n",
      "    Metadata:\n",
      "      encoder         : Lavc58.134.100 libx264\n",
      "    Side data:\n",
      "      cpb: bitrate max/min/avg: 0/0/0 buffer size: 0 vbv_delay: N/A\n",
      "  Stream #0:1: Audio: aac (LC) (mp4a / 0x6134706D), 32000 Hz, stereo, fltp, 128 kb/s\n",
      "    Metadata:\n",
      "      encoder         : Lavc58.134.100 aac\n",
      "[s16le @ 0x555ca87d0400] Thread message queue blocking; consider raising the thread_queue_size option (current value: 60)\n",
      "frame= 3147 fps=1308 q=-1.0 Lsize=    2432kB time=00:00:52.32 bitrate= 380.9kbits/s speed=21.7x    \n",
      "video:1612kB audio:763kB subtitle:0kB other streams:0kB global headers:0kB muxing overhead: 2.402622%\n",
      "[libx264 @ 0x555ca87e67c0] frame I:21    Avg QP:10.97  size:  8636\n",
      "[libx264 @ 0x555ca87e67c0] frame P:1301  Avg QP:16.77  size:   982\n",
      "[libx264 @ 0x555ca87e67c0] frame B:1825  Avg QP:18.80  size:   105\n",
      "[libx264 @ 0x555ca87e67c0] consecutive B-frames: 16.7% 15.6%  7.5% 60.2%\n",
      "[libx264 @ 0x555ca87e67c0] mb I  I16..4: 38.3% 19.5% 42.3%\n",
      "[libx264 @ 0x555ca87e67c0] mb P  I16..4:  2.6%  2.0%  2.1%  P16..4: 23.0%  5.0%  4.3%  0.0%  0.0%    skip:61.2%\n",
      "[libx264 @ 0x555ca87e67c0] mb B  I16..4:  0.3%  0.1%  0.0%  B16..8:  7.2%  1.3%  0.5%  direct: 1.7%  skip:88.8%  L0:45.4% L1:50.9% BI: 3.7%\n",
      "[libx264 @ 0x555ca87e67c0] 8x8 transform intra:28.2% inter:44.6%\n",
      "[libx264 @ 0x555ca87e67c0] direct mvs  spatial:98.2% temporal:1.8%\n",
      "[libx264 @ 0x555ca87e67c0] coded y,uvDC,uvAC intra: 23.9% 55.2% 45.3% inter: 4.5% 9.7% 4.9%\n",
      "[libx264 @ 0x555ca87e67c0] i16 v,h,dc,p: 56% 34% 10%  0%\n",
      "[libx264 @ 0x555ca87e67c0] i8 v,h,dc,ddl,ddr,vr,hd,vl,hu: 24% 11% 58%  1%  0%  1%  1%  1%  2%\n",
      "[libx264 @ 0x555ca87e67c0] i4 v,h,dc,ddl,ddr,vr,hd,vl,hu: 45% 25% 20%  1%  2%  2%  2%  2%  2%\n",
      "[libx264 @ 0x555ca87e67c0] i8c dc,h,v,p: 48% 31% 20%  2%\n",
      "[libx264 @ 0x555ca87e67c0] Weighted P-Frames: Y:14.5% UV:14.5%\n",
      "[libx264 @ 0x555ca87e67c0] ref P L0: 64.2%  3.2% 15.0% 10.6%  5.0%  1.9%  0.1%\n",
      "[libx264 @ 0x555ca87e67c0] ref B L0: 87.2%  8.7%  3.2%  0.9%\n",
      "[libx264 @ 0x555ca87e67c0] ref B L1: 99.0%  1.0%\n",
      "[libx264 @ 0x555ca87e67c0] kb/s:252.11\n",
      "[aac @ 0x555ca87e8440] Qavg: 16829.705\n"
     ]
    },
    {
     "name": "stdout",
     "output_type": "stream",
     "text": [
      "moving SuperMarioWorld-Snes-YoshiIsland2-000013.mp4 to video folder: ./recordings/pred/videos/\n",
      "\n",
      "The file SuperMarioWorld-Snes-YoshiIsland2-000014.bk2 (input log size 115) has been deleted.\n",
      "The file SuperMarioWorld-Snes-YoshiIsland2-000015.bk2 contains key presses.\n",
      "converting SuperMarioWorld-Snes-YoshiIsland2-000015.bk2 into .mp4\n",
      "\n"
     ]
    },
    {
     "name": "stderr",
     "output_type": "stream",
     "text": [
      "ffmpeg version 4.4.2-0ubuntu0.22.04.1 Copyright (c) 2000-2021 the FFmpeg developers\n",
      "  built with gcc 11 (Ubuntu 11.2.0-19ubuntu1)\n",
      "  configuration: --prefix=/usr --extra-version=0ubuntu0.22.04.1 --toolchain=hardened --libdir=/usr/lib/x86_64-linux-gnu --incdir=/usr/include/x86_64-linux-gnu --arch=amd64 --enable-gpl --disable-stripping --enable-gnutls --enable-ladspa --enable-libaom --enable-libass --enable-libbluray --enable-libbs2b --enable-libcaca --enable-libcdio --enable-libcodec2 --enable-libdav1d --enable-libflite --enable-libfontconfig --enable-libfreetype --enable-libfribidi --enable-libgme --enable-libgsm --enable-libjack --enable-libmp3lame --enable-libmysofa --enable-libopenjpeg --enable-libopenmpt --enable-libopus --enable-libpulse --enable-librabbitmq --enable-librubberband --enable-libshine --enable-libsnappy --enable-libsoxr --enable-libspeex --enable-libsrt --enable-libssh --enable-libtheora --enable-libtwolame --enable-libvidstab --enable-libvorbis --enable-libvpx --enable-libwebp --enable-libx265 --enable-libxml2 --enable-libxvid --enable-libzimg --enable-libzmq --enable-libzvbi --enable-lv2 --enable-omx --enable-openal --enable-opencl --enable-opengl --enable-sdl2 --enable-pocketsphinx --enable-librsvg --enable-libmfx --enable-libdc1394 --enable-libdrm --enable-libiec61883 --enable-chromaprint --enable-frei0r --enable-libx264 --enable-shared\n",
      "  libavutil      56. 70.100 / 56. 70.100\n",
      "  libavcodec     58.134.100 / 58.134.100\n",
      "  libavformat    58. 76.100 / 58. 76.100\n",
      "  libavdevice    58. 13.100 / 58. 13.100\n",
      "  libavfilter     7.110.100 /  7.110.100\n",
      "  libswscale      5.  9.100 /  5.  9.100\n",
      "  libswresample   3.  9.100 /  3.  9.100\n",
      "  libpostproc    55.  9.100 / 55.  9.100\n",
      "Input #0, rawvideo, from 'tcp://127.0.0.1:58899?listen':\n",
      "  Duration: N/A, start: 0.000000, bitrate: 82711 kb/s\n",
      "  Stream #0:0: Video: rawvideo (RGB[24] / 0x18424752), rgb24, 256x224, 82711 kb/s, 60.10 tbr, 60.10 tbn, 60.10 tbc\n",
      "Guessed Channel Layout for Input Stream #1.0 : stereo\n",
      "Input #1, s16le, from 'tcp://127.0.0.1:51391?listen':\n",
      "  Duration: N/A, bitrate: 1025 kb/s\n",
      "  Stream #1:0: Audio: pcm_s16le, 32040 Hz, stereo, s16, 1025 kb/s\n",
      "Stream mapping:\n",
      "  Stream #0:0 -> #0:0 (rawvideo (native) -> h264 (libx264))\n",
      "  Stream #1:0 -> #0:1 (pcm_s16le (native) -> aac (native))\n",
      "Press [q] to stop, [?] for help\n",
      "[libx264 @ 0x560df6e557c0] using cpu capabilities: MMX2 SSE2Fast SSSE3 SSE4.2 AVX FMA3 BMI2 AVX2\n",
      "[libx264 @ 0x560df6e557c0] profile High, level 2.1, 4:2:0, 8-bit\n",
      "[libx264 @ 0x560df6e557c0] 264 - core 163 r3060 5db6aa6 - H.264/MPEG-4 AVC codec - Copyleft 2003-2021 - http://www.videolan.org/x264.html - options: cabac=1 ref=5 deblock=1:0:0 analyse=0x3:0x113 me=hex subme=8 psy=1 psy_rd=1.00:0.00 mixed_ref=1 me_range=16 chroma_me=1 trellis=2 8x8dct=1 cqm=0 deadzone=21,11 fast_pskip=1 chroma_qp_offset=-2 threads=7 lookahead_threads=1 sliced_threads=0 nr=0 decimate=1 interlaced=0 bluray_compat=0 constrained_intra=0 bframes=3 b_pyramid=2 b_adapt=1 b_bias=0 direct=3 weightb=1 open_gop=0 weightp=2 keyint=250 keyint_min=25 scenecut=40 intra_refresh=0 rc_lookahead=50 rc=crf mbtree=1 crf=17.0 qcomp=0.60 qpmin=0 qpmax=69 qpstep=4 ip_ratio=1.40 aq=1:1.00\n",
      "Output #0, mp4, to './recordings/pred/SuperMarioWorld-Snes-YoshiIsland2-000015.mp4':\n",
      "  Metadata:\n",
      "    encoder         : Lavf58.76.100\n",
      "  Stream #0:0: Video: h264 (avc1 / 0x31637661), yuv420p(tv, progressive), 256x224, q=2-31, 60.10 fps, 703096 tbn\n",
      "    Metadata:\n",
      "      encoder         : Lavc58.134.100 libx264\n",
      "    Side data:\n",
      "      cpb: bitrate max/min/avg: 0/0/0 buffer size: 0 vbv_delay: N/A\n",
      "  Stream #0:1: Audio: aac (LC) (mp4a / 0x6134706D), 32000 Hz, stereo, fltp, 128 kb/s\n",
      "    Metadata:\n",
      "      encoder         : Lavc58.134.100 aac\n",
      "[s16le @ 0x560df6e3f400] Thread message queue blocking; consider raising the thread_queue_size option (current value: 60)\n",
      "frame= 8039 fps=1257 q=-1.0 Lsize=    5833kB time=00:02:13.72 bitrate= 357.3kbits/s speed=20.9x    \n",
      "video:3519kB audio:2171kB subtitle:0kB other streams:0kB global headers:0kB muxing overhead: 2.502707%\n",
      "[libx264 @ 0x560df6e557c0] frame I:34    Avg QP:13.19  size: 15868\n",
      "[libx264 @ 0x560df6e557c0] frame P:3851  Avg QP:18.48  size:   657\n",
      "[libx264 @ 0x560df6e557c0] frame B:4154  Avg QP:25.51  size:   129\n",
      "[libx264 @ 0x560df6e557c0] consecutive B-frames: 20.4% 28.9%  9.4% 41.3%\n",
      "[libx264 @ 0x560df6e557c0] mb I  I16..4:  9.8% 16.2% 73.9%\n",
      "[libx264 @ 0x560df6e557c0] mb P  I16..4:  0.7%  0.4%  0.3%  P16..4: 16.2%  4.6%  3.7%  0.0%  0.0%    skip:74.1%\n",
      "[libx264 @ 0x560df6e557c0] mb B  I16..4:  0.0%  0.1%  0.0%  B16..8: 10.9%  2.3%  0.6%  direct: 0.7%  skip:85.2%  L0:41.2% L1:54.5% BI: 4.4%\n",
      "[libx264 @ 0x560df6e557c0] 8x8 transform intra:27.3% inter:13.4%\n",
      "[libx264 @ 0x560df6e557c0] direct mvs  spatial:71.0% temporal:29.0%\n",
      "[libx264 @ 0x560df6e557c0] coded y,uvDC,uvAC intra: 29.1% 58.0% 52.2% inter: 2.1% 6.1% 4.7%\n",
      "[libx264 @ 0x560df6e557c0] i16 v,h,dc,p: 60% 31%  9%  0%\n",
      "[libx264 @ 0x560df6e557c0] i8 v,h,dc,ddl,ddr,vr,hd,vl,hu: 22%  7% 67%  1%  0%  0%  0%  1%  1%\n",
      "[libx264 @ 0x560df6e557c0] i4 v,h,dc,ddl,ddr,vr,hd,vl,hu: 37% 18% 23%  3%  4%  3%  3%  4%  6%\n",
      "[libx264 @ 0x560df6e557c0] i8c dc,h,v,p: 51% 29% 19%  2%\n",
      "[libx264 @ 0x560df6e557c0] Weighted P-Frames: Y:1.3% UV:1.3%\n",
      "[libx264 @ 0x560df6e557c0] ref P L0: 58.6%  1.3% 13.7% 11.4% 11.4%  3.5%  0.0%\n",
      "[libx264 @ 0x560df6e557c0] ref B L0: 87.0%  8.8%  3.3%  0.9%\n",
      "[libx264 @ 0x560df6e557c0] ref B L1: 98.8%  1.2%\n",
      "[libx264 @ 0x560df6e557c0] kb/s:215.49\n",
      "[aac @ 0x560df6e57440] Qavg: 2301.840\n"
     ]
    },
    {
     "name": "stdout",
     "output_type": "stream",
     "text": [
      "moving SuperMarioWorld-Snes-YoshiIsland2-000015.mp4 to video folder: ./recordings/pred/videos/\n",
      "\n",
      "The file SuperMarioWorld-Snes-YoshiIsland2-000016.bk2 (input log size 115) has been deleted.\n",
      "The file SuperMarioWorld-Snes-YoshiIsland2-000017.bk2 contains key presses.\n",
      "converting SuperMarioWorld-Snes-YoshiIsland2-000017.bk2 into .mp4\n",
      "\n"
     ]
    },
    {
     "name": "stderr",
     "output_type": "stream",
     "text": [
      "ffmpeg version 4.4.2-0ubuntu0.22.04.1 Copyright (c) 2000-2021 the FFmpeg developers\n",
      "  built with gcc 11 (Ubuntu 11.2.0-19ubuntu1)\n",
      "  configuration: --prefix=/usr --extra-version=0ubuntu0.22.04.1 --toolchain=hardened --libdir=/usr/lib/x86_64-linux-gnu --incdir=/usr/include/x86_64-linux-gnu --arch=amd64 --enable-gpl --disable-stripping --enable-gnutls --enable-ladspa --enable-libaom --enable-libass --enable-libbluray --enable-libbs2b --enable-libcaca --enable-libcdio --enable-libcodec2 --enable-libdav1d --enable-libflite --enable-libfontconfig --enable-libfreetype --enable-libfribidi --enable-libgme --enable-libgsm --enable-libjack --enable-libmp3lame --enable-libmysofa --enable-libopenjpeg --enable-libopenmpt --enable-libopus --enable-libpulse --enable-librabbitmq --enable-librubberband --enable-libshine --enable-libsnappy --enable-libsoxr --enable-libspeex --enable-libsrt --enable-libssh --enable-libtheora --enable-libtwolame --enable-libvidstab --enable-libvorbis --enable-libvpx --enable-libwebp --enable-libx265 --enable-libxml2 --enable-libxvid --enable-libzimg --enable-libzmq --enable-libzvbi --enable-lv2 --enable-omx --enable-openal --enable-opencl --enable-opengl --enable-sdl2 --enable-pocketsphinx --enable-librsvg --enable-libmfx --enable-libdc1394 --enable-libdrm --enable-libiec61883 --enable-chromaprint --enable-frei0r --enable-libx264 --enable-shared\n",
      "  libavutil      56. 70.100 / 56. 70.100\n",
      "  libavcodec     58.134.100 / 58.134.100\n",
      "  libavformat    58. 76.100 / 58. 76.100\n",
      "  libavdevice    58. 13.100 / 58. 13.100\n",
      "  libavfilter     7.110.100 /  7.110.100\n",
      "  libswscale      5.  9.100 /  5.  9.100\n",
      "  libswresample   3.  9.100 /  3.  9.100\n",
      "  libpostproc    55.  9.100 / 55.  9.100\n",
      "Input #0, rawvideo, from 'tcp://127.0.0.1:49381?listen':\n",
      "  Duration: N/A, start: 0.000000, bitrate: 82711 kb/s\n",
      "  Stream #0:0: Video: rawvideo (RGB[24] / 0x18424752), rgb24, 256x224, 82711 kb/s, 60.10 tbr, 60.10 tbn, 60.10 tbc\n",
      "Guessed Channel Layout for Input Stream #1.0 : stereo\n",
      "Input #1, s16le, from 'tcp://127.0.0.1:36147?listen':\n",
      "  Duration: N/A, bitrate: 1025 kb/s\n",
      "  Stream #1:0: Audio: pcm_s16le, 32040 Hz, stereo, s16, 1025 kb/s\n",
      "Stream mapping:\n",
      "  Stream #0:0 -> #0:0 (rawvideo (native) -> h264 (libx264))\n",
      "  Stream #1:0 -> #0:1 (pcm_s16le (native) -> aac (native))\n",
      "Press [q] to stop, [?] for help\n",
      "[libx264 @ 0x55e6a8a197c0] using cpu capabilities: MMX2 SSE2Fast SSSE3 SSE4.2 AVX FMA3 BMI2 AVX2\n",
      "[libx264 @ 0x55e6a8a197c0] profile High, level 2.1, 4:2:0, 8-bit\n",
      "[libx264 @ 0x55e6a8a197c0] 264 - core 163 r3060 5db6aa6 - H.264/MPEG-4 AVC codec - Copyleft 2003-2021 - http://www.videolan.org/x264.html - options: cabac=1 ref=5 deblock=1:0:0 analyse=0x3:0x113 me=hex subme=8 psy=1 psy_rd=1.00:0.00 mixed_ref=1 me_range=16 chroma_me=1 trellis=2 8x8dct=1 cqm=0 deadzone=21,11 fast_pskip=1 chroma_qp_offset=-2 threads=7 lookahead_threads=1 sliced_threads=0 nr=0 decimate=1 interlaced=0 bluray_compat=0 constrained_intra=0 bframes=3 b_pyramid=2 b_adapt=1 b_bias=0 direct=3 weightb=1 open_gop=0 weightp=2 keyint=250 keyint_min=25 scenecut=40 intra_refresh=0 rc_lookahead=50 rc=crf mbtree=1 crf=17.0 qcomp=0.60 qpmin=0 qpmax=69 qpstep=4 ip_ratio=1.40 aq=1:1.00\n",
      "Output #0, mp4, to './recordings/pred/SuperMarioWorld-Snes-YoshiIsland2-000017.mp4':\n",
      "  Metadata:\n",
      "    encoder         : Lavf58.76.100\n",
      "  Stream #0:0: Video: h264 (avc1 / 0x31637661), yuv420p(tv, progressive), 256x224, q=2-31, 60.10 fps, 703096 tbn\n",
      "    Metadata:\n",
      "      encoder         : Lavc58.134.100 libx264\n",
      "    Side data:\n",
      "      cpb: bitrate max/min/avg: 0/0/0 buffer size: 0 vbv_delay: N/A\n",
      "  Stream #0:1: Audio: aac (LC) (mp4a / 0x6134706D), 32000 Hz, stereo, fltp, 128 kb/s\n",
      "    Metadata:\n",
      "      encoder         : Lavc58.134.100 aac\n",
      "[s16le @ 0x55e6a8a03400] Thread message queue blocking; consider raising the thread_queue_size option (current value: 60)\n",
      "frame=64749 fps=1327 q=-1.0 Lsize=   29661kB time=00:17:57.32 bitrate= 225.5kbits/s speed=22.1x    \n",
      "video:10097kB audio:18357kB subtitle:0kB other streams:0kB global headers:0kB muxing overhead: 4.239606%\n",
      "[libx264 @ 0x55e6a8a197c0] frame I:267   Avg QP:11.71  size: 18569\n",
      "[libx264 @ 0x55e6a8a197c0] frame P:17642 Avg QP:14.48  size:   236\n",
      "[libx264 @ 0x55e6a8a197c0] frame B:46840 Avg QP:19.36  size:    26\n",
      "[libx264 @ 0x55e6a8a197c0] consecutive B-frames:  2.9%  1.8%  0.9% 94.5%\n",
      "[libx264 @ 0x55e6a8a197c0] mb I  I16..4: 11.1% 11.6% 77.3%\n",
      "[libx264 @ 0x55e6a8a197c0] mb P  I16..4:  0.3%  0.2%  0.2%  P16..4:  6.8%  1.3%  1.1%  0.0%  0.0%    skip:90.1%\n",
      "[libx264 @ 0x55e6a8a197c0] mb B  I16..4:  0.0%  0.0%  0.0%  B16..8:  2.1%  0.2%  0.0%  direct: 0.1%  skip:97.6%  L0:53.7% L1:44.7% BI: 1.6%\n",
      "[libx264 @ 0x55e6a8a197c0] 8x8 transform intra:18.2% inter:23.9%\n",
      "[libx264 @ 0x55e6a8a197c0] direct mvs  spatial:40.5% temporal:59.5%\n",
      "[libx264 @ 0x55e6a8a197c0] coded y,uvDC,uvAC intra: 46.9% 73.5% 69.1% inter: 0.4% 1.1% 0.7%\n",
      "[libx264 @ 0x55e6a8a197c0] i16 v,h,dc,p: 58% 31% 11%  0%\n",
      "[libx264 @ 0x55e6a8a197c0] i8 v,h,dc,ddl,ddr,vr,hd,vl,hu: 33% 12% 49%  1%  0%  1%  1%  1%  2%\n",
      "[libx264 @ 0x55e6a8a197c0] i4 v,h,dc,ddl,ddr,vr,hd,vl,hu: 32% 17% 21%  5%  4%  3%  3%  5%  9%\n",
      "[libx264 @ 0x55e6a8a197c0] i8c dc,h,v,p: 52% 32% 14%  2%\n",
      "[libx264 @ 0x55e6a8a197c0] Weighted P-Frames: Y:1.1% UV:1.1%\n",
      "[libx264 @ 0x55e6a8a197c0] ref P L0: 44.7%  1.3% 25.8% 20.0%  6.2%  2.1%  0.0%\n",
      "[libx264 @ 0x55e6a8a197c0] ref B L0: 90.6%  7.3%  1.8%  0.3%\n",
      "[libx264 @ 0x55e6a8a197c0] ref B L1: 97.0%  3.0%\n",
      "[libx264 @ 0x55e6a8a197c0] kb/s:76.77\n",
      "[aac @ 0x55e6a8a1b440] Qavg: 3331.951\n"
     ]
    },
    {
     "name": "stdout",
     "output_type": "stream",
     "text": [
      "moving SuperMarioWorld-Snes-YoshiIsland2-000017.mp4 to video folder: ./recordings/pred/videos/\n",
      "\n",
      "The file SuperMarioWorld-Snes-YoshiIsland2-000018.bk2 (input log size 115) has been deleted.\n",
      "The file SuperMarioWorld-Snes-YoshiIsland2-000019.bk2 contains key presses.\n",
      "converting SuperMarioWorld-Snes-YoshiIsland2-000019.bk2 into .mp4\n",
      "\n"
     ]
    },
    {
     "name": "stderr",
     "output_type": "stream",
     "text": [
      "ffmpeg version 4.4.2-0ubuntu0.22.04.1 Copyright (c) 2000-2021 the FFmpeg developers\n",
      "  built with gcc 11 (Ubuntu 11.2.0-19ubuntu1)\n",
      "  configuration: --prefix=/usr --extra-version=0ubuntu0.22.04.1 --toolchain=hardened --libdir=/usr/lib/x86_64-linux-gnu --incdir=/usr/include/x86_64-linux-gnu --arch=amd64 --enable-gpl --disable-stripping --enable-gnutls --enable-ladspa --enable-libaom --enable-libass --enable-libbluray --enable-libbs2b --enable-libcaca --enable-libcdio --enable-libcodec2 --enable-libdav1d --enable-libflite --enable-libfontconfig --enable-libfreetype --enable-libfribidi --enable-libgme --enable-libgsm --enable-libjack --enable-libmp3lame --enable-libmysofa --enable-libopenjpeg --enable-libopenmpt --enable-libopus --enable-libpulse --enable-librabbitmq --enable-librubberband --enable-libshine --enable-libsnappy --enable-libsoxr --enable-libspeex --enable-libsrt --enable-libssh --enable-libtheora --enable-libtwolame --enable-libvidstab --enable-libvorbis --enable-libvpx --enable-libwebp --enable-libx265 --enable-libxml2 --enable-libxvid --enable-libzimg --enable-libzmq --enable-libzvbi --enable-lv2 --enable-omx --enable-openal --enable-opencl --enable-opengl --enable-sdl2 --enable-pocketsphinx --enable-librsvg --enable-libmfx --enable-libdc1394 --enable-libdrm --enable-libiec61883 --enable-chromaprint --enable-frei0r --enable-libx264 --enable-shared\n",
      "  libavutil      56. 70.100 / 56. 70.100\n",
      "  libavcodec     58.134.100 / 58.134.100\n",
      "  libavformat    58. 76.100 / 58. 76.100\n",
      "  libavdevice    58. 13.100 / 58. 13.100\n",
      "  libavfilter     7.110.100 /  7.110.100\n",
      "  libswscale      5.  9.100 /  5.  9.100\n",
      "  libswresample   3.  9.100 /  3.  9.100\n",
      "  libpostproc    55.  9.100 / 55.  9.100\n",
      "Input #0, rawvideo, from 'tcp://127.0.0.1:39867?listen':\n",
      "  Duration: N/A, start: 0.000000, bitrate: 82711 kb/s\n",
      "  Stream #0:0: Video: rawvideo (RGB[24] / 0x18424752), rgb24, 256x224, 82711 kb/s, 60.10 tbr, 60.10 tbn, 60.10 tbc\n",
      "Guessed Channel Layout for Input Stream #1.0 : stereo\n",
      "Input #1, s16le, from 'tcp://127.0.0.1:50579?listen':\n",
      "  Duration: N/A, bitrate: 1025 kb/s\n",
      "  Stream #1:0: Audio: pcm_s16le, 32040 Hz, stereo, s16, 1025 kb/s\n",
      "Stream mapping:\n",
      "  Stream #0:0 -> #0:0 (rawvideo (native) -> h264 (libx264))\n",
      "  Stream #1:0 -> #0:1 (pcm_s16le (native) -> aac (native))\n",
      "Press [q] to stop, [?] for help\n",
      "[libx264 @ 0x565342b217c0] using cpu capabilities: MMX2 SSE2Fast SSSE3 SSE4.2 AVX FMA3 BMI2 AVX2\n",
      "[libx264 @ 0x565342b217c0] profile High, level 2.1, 4:2:0, 8-bit\n",
      "[libx264 @ 0x565342b217c0] 264 - core 163 r3060 5db6aa6 - H.264/MPEG-4 AVC codec - Copyleft 2003-2021 - http://www.videolan.org/x264.html - options: cabac=1 ref=5 deblock=1:0:0 analyse=0x3:0x113 me=hex subme=8 psy=1 psy_rd=1.00:0.00 mixed_ref=1 me_range=16 chroma_me=1 trellis=2 8x8dct=1 cqm=0 deadzone=21,11 fast_pskip=1 chroma_qp_offset=-2 threads=7 lookahead_threads=1 sliced_threads=0 nr=0 decimate=1 interlaced=0 bluray_compat=0 constrained_intra=0 bframes=3 b_pyramid=2 b_adapt=1 b_bias=0 direct=3 weightb=1 open_gop=0 weightp=2 keyint=250 keyint_min=25 scenecut=40 intra_refresh=0 rc_lookahead=50 rc=crf mbtree=1 crf=17.0 qcomp=0.60 qpmin=0 qpmax=69 qpstep=4 ip_ratio=1.40 aq=1:1.00\n",
      "Output #0, mp4, to './recordings/pred/SuperMarioWorld-Snes-YoshiIsland2-000019.mp4':\n",
      "  Metadata:\n",
      "    encoder         : Lavf58.76.100\n",
      "  Stream #0:0: Video: h264 (avc1 / 0x31637661), yuv420p(tv, progressive), 256x224, q=2-31, 60.10 fps, 703096 tbn\n",
      "    Metadata:\n",
      "      encoder         : Lavc58.134.100 libx264\n",
      "    Side data:\n",
      "      cpb: bitrate max/min/avg: 0/0/0 buffer size: 0 vbv_delay: N/A\n",
      "  Stream #0:1: Audio: aac (LC) (mp4a / 0x6134706D), 32000 Hz, stereo, fltp, 128 kb/s\n",
      "    Metadata:\n",
      "      encoder         : Lavc58.134.100 aac\n",
      "[s16le @ 0x565342b0b400] Thread message queue blocking; consider raising the thread_queue_size option (current value: 60)\n",
      "frame=68911 fps=1300 q=-1.0 Lsize=   31406kB time=00:19:06.59 bitrate= 224.4kbits/s speed=21.6x    \n",
      "video:10636kB audio:19486kB subtitle:0kB other streams:0kB global headers:0kB muxing overhead: 4.260664%\n",
      "[libx264 @ 0x565342b217c0] frame I:284   Avg QP:11.88  size: 17862\n",
      "[libx264 @ 0x565342b217c0] frame P:18812 Avg QP:13.31  size:   240\n",
      "[libx264 @ 0x565342b217c0] frame B:49815 Avg QP:15.02  size:    26\n",
      "[libx264 @ 0x565342b217c0] consecutive B-frames:  3.0%  1.7%  0.7% 94.7%\n",
      "[libx264 @ 0x565342b217c0] mb I  I16..4:  8.8% 17.4% 73.8%\n",
      "[libx264 @ 0x565342b217c0] mb P  I16..4:  0.3%  0.2%  0.2%  P16..4:  6.8%  1.3%  1.2%  0.0%  0.0%    skip:90.1%\n",
      "[libx264 @ 0x565342b217c0] mb B  I16..4:  0.0%  0.0%  0.0%  B16..8:  2.2%  0.2%  0.0%  direct: 0.1%  skip:97.5%  L0:47.1% L1:51.5% BI: 1.3%\n",
      "[libx264 @ 0x565342b217c0] 8x8 transform intra:22.4% inter:22.6%\n",
      "[libx264 @ 0x565342b217c0] direct mvs  spatial:40.6% temporal:59.4%\n",
      "[libx264 @ 0x565342b217c0] coded y,uvDC,uvAC intra: 45.1% 71.8% 67.8% inter: 0.4% 1.1% 0.7%\n",
      "[libx264 @ 0x565342b217c0] i16 v,h,dc,p: 55% 34% 11%  0%\n",
      "[libx264 @ 0x565342b217c0] i8 v,h,dc,ddl,ddr,vr,hd,vl,hu: 38% 12% 46%  1%  0%  0%  1%  1%  1%\n",
      "[libx264 @ 0x565342b217c0] i4 v,h,dc,ddl,ddr,vr,hd,vl,hu: 34% 17% 20%  5%  4%  3%  3%  5%  8%\n",
      "[libx264 @ 0x565342b217c0] i8c dc,h,v,p: 52% 31% 15%  2%\n",
      "[libx264 @ 0x565342b217c0] Weighted P-Frames: Y:1.0% UV:1.0%\n",
      "[libx264 @ 0x565342b217c0] ref P L0: 43.9%  1.2% 26.4% 20.2%  6.1%  2.1%  0.0%\n",
      "[libx264 @ 0x565342b217c0] ref B L0: 83.7% 14.2%  1.9%  0.3%\n",
      "[libx264 @ 0x565342b217c0] ref B L1: 99.4%  0.6%\n",
      "[libx264 @ 0x565342b217c0] kb/s:75.98\n",
      "[aac @ 0x565342b23440] Qavg: 3589.116\n"
     ]
    },
    {
     "name": "stdout",
     "output_type": "stream",
     "text": [
      "moving SuperMarioWorld-Snes-YoshiIsland2-000019.mp4 to video folder: ./recordings/pred/videos/\n",
      "\n",
      "The file SuperMarioWorld-Snes-YoshiIsland2-000020.bk2 (input log size 115) has been deleted.\n",
      "The file SuperMarioWorld-Snes-YoshiIsland2-000021.bk2 contains key presses.\n",
      "converting SuperMarioWorld-Snes-YoshiIsland2-000021.bk2 into .mp4\n",
      "\n"
     ]
    },
    {
     "name": "stderr",
     "output_type": "stream",
     "text": [
      "ffmpeg version 4.4.2-0ubuntu0.22.04.1 Copyright (c) 2000-2021 the FFmpeg developers\n",
      "  built with gcc 11 (Ubuntu 11.2.0-19ubuntu1)\n",
      "  configuration: --prefix=/usr --extra-version=0ubuntu0.22.04.1 --toolchain=hardened --libdir=/usr/lib/x86_64-linux-gnu --incdir=/usr/include/x86_64-linux-gnu --arch=amd64 --enable-gpl --disable-stripping --enable-gnutls --enable-ladspa --enable-libaom --enable-libass --enable-libbluray --enable-libbs2b --enable-libcaca --enable-libcdio --enable-libcodec2 --enable-libdav1d --enable-libflite --enable-libfontconfig --enable-libfreetype --enable-libfribidi --enable-libgme --enable-libgsm --enable-libjack --enable-libmp3lame --enable-libmysofa --enable-libopenjpeg --enable-libopenmpt --enable-libopus --enable-libpulse --enable-librabbitmq --enable-librubberband --enable-libshine --enable-libsnappy --enable-libsoxr --enable-libspeex --enable-libsrt --enable-libssh --enable-libtheora --enable-libtwolame --enable-libvidstab --enable-libvorbis --enable-libvpx --enable-libwebp --enable-libx265 --enable-libxml2 --enable-libxvid --enable-libzimg --enable-libzmq --enable-libzvbi --enable-lv2 --enable-omx --enable-openal --enable-opencl --enable-opengl --enable-sdl2 --enable-pocketsphinx --enable-librsvg --enable-libmfx --enable-libdc1394 --enable-libdrm --enable-libiec61883 --enable-chromaprint --enable-frei0r --enable-libx264 --enable-shared\n",
      "  libavutil      56. 70.100 / 56. 70.100\n",
      "  libavcodec     58.134.100 / 58.134.100\n",
      "  libavformat    58. 76.100 / 58. 76.100\n",
      "  libavdevice    58. 13.100 / 58. 13.100\n",
      "  libavfilter     7.110.100 /  7.110.100\n",
      "  libswscale      5.  9.100 /  5.  9.100\n",
      "  libswresample   3.  9.100 /  3.  9.100\n",
      "  libpostproc    55.  9.100 / 55.  9.100\n",
      "Input #0, rawvideo, from 'tcp://127.0.0.1:38743?listen':\n",
      "  Duration: N/A, start: 0.000000, bitrate: 82711 kb/s\n",
      "  Stream #0:0: Video: rawvideo (RGB[24] / 0x18424752), rgb24, 256x224, 82711 kb/s, 60.10 tbr, 60.10 tbn, 60.10 tbc\n",
      "Guessed Channel Layout for Input Stream #1.0 : stereo\n",
      "Input #1, s16le, from 'tcp://127.0.0.1:50219?listen':\n",
      "  Duration: N/A, bitrate: 1025 kb/s\n",
      "  Stream #1:0: Audio: pcm_s16le, 32040 Hz, stereo, s16, 1025 kb/s\n",
      "Stream mapping:\n",
      "  Stream #0:0 -> #0:0 (rawvideo (native) -> h264 (libx264))\n",
      "  Stream #1:0 -> #0:1 (pcm_s16le (native) -> aac (native))\n",
      "Press [q] to stop, [?] for help\n",
      "[libx264 @ 0x5590e895f7c0] using cpu capabilities: MMX2 SSE2Fast SSSE3 SSE4.2 AVX FMA3 BMI2 AVX2\n",
      "[libx264 @ 0x5590e895f7c0] profile High, level 2.1, 4:2:0, 8-bit\n",
      "[libx264 @ 0x5590e895f7c0] 264 - core 163 r3060 5db6aa6 - H.264/MPEG-4 AVC codec - Copyleft 2003-2021 - http://www.videolan.org/x264.html - options: cabac=1 ref=5 deblock=1:0:0 analyse=0x3:0x113 me=hex subme=8 psy=1 psy_rd=1.00:0.00 mixed_ref=1 me_range=16 chroma_me=1 trellis=2 8x8dct=1 cqm=0 deadzone=21,11 fast_pskip=1 chroma_qp_offset=-2 threads=7 lookahead_threads=1 sliced_threads=0 nr=0 decimate=1 interlaced=0 bluray_compat=0 constrained_intra=0 bframes=3 b_pyramid=2 b_adapt=1 b_bias=0 direct=3 weightb=1 open_gop=0 weightp=2 keyint=250 keyint_min=25 scenecut=40 intra_refresh=0 rc_lookahead=50 rc=crf mbtree=1 crf=17.0 qcomp=0.60 qpmin=0 qpmax=69 qpstep=4 ip_ratio=1.40 aq=1:1.00\n",
      "Output #0, mp4, to './recordings/pred/SuperMarioWorld-Snes-YoshiIsland2-000021.mp4':\n",
      "  Metadata:\n",
      "    encoder         : Lavf58.76.100\n",
      "  Stream #0:0: Video: h264 (avc1 / 0x31637661), yuv420p(tv, progressive), 256x224, q=2-31, 60.10 fps, 703096 tbn\n",
      "    Metadata:\n",
      "      encoder         : Lavc58.134.100 libx264\n",
      "    Side data:\n",
      "      cpb: bitrate max/min/avg: 0/0/0 buffer size: 0 vbv_delay: N/A\n",
      "  Stream #0:1: Audio: aac (LC) (mp4a / 0x6134706D), 32000 Hz, stereo, fltp, 128 kb/s\n",
      "    Metadata:\n",
      "      encoder         : Lavc58.134.100 aac\n",
      "[s16le @ 0x5590e8949400] Thread message queue blocking; consider raising the thread_queue_size option (current value: 60)\n",
      "frame=52402 fps=1318 q=25.0 size=   23808kB time=00:14:30.88 bitrate= 224.0kbits/s speed=21.9x    \r"
     ]
    },
    {
     "name": "stdout",
     "output_type": "stream",
     "text": [
      "moving SuperMarioWorld-Snes-YoshiIsland2-000021.mp4 to video folder: ./recordings/pred/videos/\n",
      "\n"
     ]
    },
    {
     "name": "stderr",
     "output_type": "stream",
     "text": [
      "frame=52758 fps=1318 q=-1.0 Lsize=   25045kB time=00:14:37.80 bitrate= 233.7kbits/s speed=21.9x    \n",
      "video:9538kB audio:14559kB subtitle:0kB other streams:0kB global headers:0kB muxing overhead: 3.930073%\n",
      "[libx264 @ 0x5590e895f7c0] frame I:219   Avg QP:12.14  size: 16284\n",
      "[libx264 @ 0x5590e895f7c0] frame P:20343 Avg QP:16.90  size:   244\n",
      "[libx264 @ 0x5590e895f7c0] frame B:32196 Avg QP:22.98  size:    38\n",
      "[libx264 @ 0x5590e895f7c0] consecutive B-frames: 13.8% 12.0%  7.9% 66.3%\n",
      "[libx264 @ 0x5590e895f7c0] mb I  I16..4: 11.2% 17.6% 71.2%\n",
      "[libx264 @ 0x5590e895f7c0] mb P  I16..4:  0.2%  0.2%  0.2%  P16..4:  4.1%  1.8%  0.9%  0.0%  0.0%    skip:92.6%\n",
      "[libx264 @ 0x5590e895f7c0] mb B  I16..4:  0.0%  0.0%  0.0%  B16..8:  2.4%  0.5%  0.1%  direct: 0.2%  skip:96.8%  L0:50.1% L1:47.8% BI: 2.0%\n",
      "[libx264 @ 0x5590e895f7c0] 8x8 transform intra:24.1% inter:20.7%\n",
      "[libx264 @ 0x5590e895f7c0] direct mvs  spatial:41.3% temporal:58.7%\n",
      "[libx264 @ 0x5590e895f7c0] coded y,uvDC,uvAC intra: 40.5% 68.3% 63.7% inter: 0.6% 1.5% 1.1%\n",
      "[libx264 @ 0x5590e895f7c0] i16 v,h,dc,p: 57% 35%  8%  0%\n",
      "[libx264 @ 0x5590e895f7c0] i8 v,h,dc,ddl,ddr,vr,hd,vl,hu: 38%  9% 49%  1%  0%  0%  0%  1%  1%\n",
      "[libx264 @ 0x5590e895f7c0] i4 v,h,dc,ddl,ddr,vr,hd,vl,hu: 39% 18% 18%  5%  4%  3%  3%  4%  6%\n",
      "[libx264 @ 0x5590e895f7c0] i8c dc,h,v,p: 48% 32% 18%  2%\n",
      "[libx264 @ 0x5590e895f7c0] Weighted P-Frames: Y:1.0% UV:1.0%\n",
      "[libx264 @ 0x5590e895f7c0] ref P L0: 58.8%  1.9% 17.8% 13.5%  6.1%  1.9%  0.0%\n",
      "[libx264 @ 0x5590e895f7c0] ref B L0: 88.7%  7.4%  3.4%  0.5%\n",
      "[libx264 @ 0x5590e895f7c0] ref B L1: 98.2%  1.8%\n",
      "[libx264 @ 0x5590e895f7c0] kb/s:89.00\n",
      "[aac @ 0x5590e8961440] Qavg: 3132.865\n"
     ]
    }
   ],
   "source": [
    "automate()"
   ]
  },
  {
   "cell_type": "code",
   "execution_count": null,
   "metadata": {},
   "outputs": [],
   "source": []
  },
  {
   "cell_type": "code",
   "execution_count": null,
   "metadata": {},
   "outputs": [],
   "source": []
  },
  {
   "cell_type": "code",
   "execution_count": null,
   "metadata": {},
   "outputs": [],
   "source": []
  },
  {
   "attachments": {},
   "cell_type": "markdown",
   "metadata": {},
   "source": [
    "### Tensorboard for troubleshooting"
   ]
  },
  {
   "cell_type": "code",
   "execution_count": 36,
   "metadata": {},
   "outputs": [
    {
     "ename": "",
     "evalue": "",
     "output_type": "error",
     "traceback": [
      "\u001b[1;31mThe Kernel crashed while executing code in the the current cell or a previous cell. Please review the code in the cell(s) to identify a possible cause of the failure. Click <a href='https://aka.ms/vscodeJupyterKernelCrash'>here</a> for more info. View Jupyter <a href='command:jupyter.viewOutput'>log</a> for further details."
     ]
    }
   ],
   "source": [
    "%load_ext tensorboard"
   ]
  }
 ],
 "metadata": {
  "kernelspec": {
   "display_name": "Python 3",
   "language": "python",
   "name": "python3"
  },
  "language_info": {
   "codemirror_mode": {
    "name": "ipython",
    "version": 3
   },
   "file_extension": ".py",
   "mimetype": "text/x-python",
   "name": "python",
   "nbconvert_exporter": "python",
   "pygments_lexer": "ipython3",
   "version": "3.8.16"
  },
  "orig_nbformat": 4,
  "vscode": {
   "interpreter": {
    "hash": "5b3ded1ccb95c1d9bd405e7b823d9e85424cde40fbb5985eb47e999ef50e15b4"
   }
  }
 },
 "nbformat": 4,
 "nbformat_minor": 2
}
